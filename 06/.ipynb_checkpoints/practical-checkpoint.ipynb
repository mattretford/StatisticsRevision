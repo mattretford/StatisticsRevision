{
 "cells": [
  {
   "cell_type": "markdown",
   "metadata": {},
   "source": [
    "# 6 Practical \n",
    "\n",
    "In this workshop, we will consolidate our understanding of maximum likelihood estimation in the case where you have $n$ i.i.d. observations.   "
   ]
  },
  {
   "cell_type": "markdown",
   "metadata": {},
   "source": [
    "## Question 1: Poisson distribution \n",
    "In this question, we will derive the MLE for $\\lambda$ for the Poisson distribution where were have $n$ i.i.d. observations. Recall from the Practical in Session 5 that a store manager wishes to estimate the number of customers to expect during lunch hour. The Poisson distribution is often used to model discrete counts (numbers of people in the queue), and has the parameter  𝜆 . Suppose they collect data from 10 random days between 12pm and 1pm, and they get the following numbers of customers: 26, 23, 29, 27, 20, 19, 24, 24, 25, 21.\n",
    "\n",
    "a) Find the likelihood function for $\\lambda$, given that we have $n$ i.i.d. observations. "
   ]
  },
  {
   "cell_type": "markdown",
   "metadata": {},
   "source": [
    "[answer here]"
   ]
  },
  {
   "cell_type": "markdown",
   "metadata": {},
   "source": [
    "b) Now find the log-likelihood for $\\lambda$, given that we have $n$ i.i.d. observations. "
   ]
  },
  {
   "cell_type": "markdown",
   "metadata": {},
   "source": [
    "[answer here] "
   ]
  },
  {
   "cell_type": "markdown",
   "metadata": {},
   "source": [
    "c) In the lectures, we went over the three steps for obtaining the MLE. Use this procedure to find the MLE for $\\lambda$ when you have $n$ i.i.d. observations. Find the maximum likelihood estimate for our example with ten customers.\n",
    "\n",
    "*Follow the three steps*:    "
   ]
  },
  {
   "cell_type": "markdown",
   "metadata": {},
   "source": [
    "[answer here]"
   ]
  },
  {
   "cell_type": "markdown",
   "metadata": {},
   "source": [
    "*Find the MLE for our example*:   "
   ]
  },
  {
   "cell_type": "code",
   "execution_count": 7,
   "metadata": {},
   "outputs": [],
   "source": [
    "##Compute the MLE \n",
    "\n",
    "wait <- c(26, 23, 29, 27, 20, 19, 24, 24, 25, 21)"
   ]
  },
  {
   "cell_type": "markdown",
   "metadata": {},
   "source": [
    "d) OPTIONAL: Plot the log-likelihood function given the data, allowing $\\lambda$ to take values between 0 and 40. Verify that that answer you found for the the MLE is indeed the maximum of the graph. "
   ]
  },
  {
   "cell_type": "code",
   "execution_count": 8,
   "metadata": {},
   "outputs": [],
   "source": [
    "wait <- c(26, 23, 29, 27, 20, 19, 24, 24, 25, 21)\n",
    "\n",
    "#possible values for lambda\n",
    "lambda <- seq(0, 40, 0.02)\n",
    "\n",
    "\n"
   ]
  },
  {
   "cell_type": "markdown",
   "metadata": {},
   "source": [
    "## Question 2: Normal distribution\n",
    "\n",
    "In the lectures, we found the MLE for $\\mu$ when you have a normally distributed i.i.d. sample of size $n$. Now find the MLE of $\\sigma^2$. Note that you are treating $\\sigma^2$ as a variable in its own right; you may find it helpful to write $u = \\sigma^2$ and differentiate with respect to $u$.\n",
    "\n",
    "Recall that we obtained the log-likelihood in the lectures: \n",
    "\n",
    "$$\n",
    "\\begin{align}  \n",
    "l \\left(\\mu, \\sigma^2 \\mid  \\boldsymbol{x}  \\right)\n",
    "&=  {-\\frac{n}{2}}\\log (2 \\pi \\sigma^2) -\\frac{1}{2\\sigma^2} \\sum_{i=1}^n (x_i-\\mu)^2\n",
    "\\end{align}\n",
    "$$"
   ]
  },
  {
   "cell_type": "markdown",
   "metadata": {},
   "source": [
    "[answer here]"
   ]
  },
  {
   "cell_type": "markdown",
   "metadata": {},
   "source": [
    "# Question 3: Properties of the MLE \n",
    "In the lectures, we used a simulation to demonstrate some important asymptotic properties of the maximum likelihood estimator. We generated a sample of size 8 from the exponential distribution where $\\lambda=0.0818$. We then calculated the MLE $\\frac{1}{\\bar{x}}$, repeated this 100 times and plotted a histogram of the MLEs. This is the sampling distribution of the MLE. We then changed the sample size, $n$, to larger numbers and observed the behavior of the histogram.   \n",
    "\n",
    "Let us denote by $M$ the median of the observations. Can you change the code below to investigate how the distribution of $\\frac{1}{M}$ changes as $n$ becomes larger? What do you notice? "
   ]
  },
  {
   "cell_type": "code",
   "execution_count": 6,
   "metadata": {},
   "outputs": [
    {
     "data": {
      "image/png": "[encoded data removed]",
      "text/plain": [
       "Plot with title \"Histogram of MLE\""
      ]
     },
     "metadata": {},
     "output_type": "display_data"
    }
   ],
   "source": [
    "n <- 8  #  make this sample size bigger, and see what happens to the histogram! \n",
    "\n",
    "#MLEs will be stored in this vector\n",
    "mle <- rep(0, 100)\n",
    "\n",
    "for (i in 1:100){\n",
    "  #generate a sample of size n from an exponential distribution with lambda=0.0818\n",
    "  sample <- rexp(n, rate=0.0818)\n",
    "  #calculate the MLE (the reciprocal mean of the sample) and store it \n",
    "  mle[i] <- 1/mean(sample)\n",
    "}\n",
    "\n",
    "#plot a histogram of the 100 MLEs \n",
    "hist(mle, breaks=20, \n",
    "     xlim=c(0, 0.3), \n",
    "     main=\"Histogram of MLE\", \n",
    "     xlab=\"MLE\")\n",
    "#add red line to indicate true lambda \n",
    "abline(v=0.0818, col=\"red\")"
   ]
  },
  {
   "cell_type": "markdown",
   "metadata": {},
   "source": [
    "## Question 4: Gamma distribution (Optional)\n",
    "\n",
    "This optional question will explore the gamma distribution. It is used to model real‐valued positive measurements, such as time waiting for a hospital bed, or time spent in a queue when you make a phone call to your electricity supplier. It is characterized by two parameters, the shape parameter $\\alpha$ and scale parameter $\\beta$ (though other parameterizations exist). Both $\\alpha$ and $\\beta$ are positive.     \n",
    "\n",
    "Suppose that you make a phone call to your electricity supplier and you are put on hold in a queue. If we assume that the company picks up the calls in a way that is completely random (a Poisson process), the waiting time would have a gamma distribution with $\\alpha$ equal to the number of customers in the queue and $\\beta$ equal to the average wait time when you are at the front of the queue. The p.d.f. of the gamma distribution is given by:\n",
    "\n",
    "$$\n",
    "\\begin{equation}\n",
    "f \\left( x \\mid \\alpha, \\beta \\right) = \\frac{\\beta^{\\alpha}}{\\Gamma(\\alpha)}x^{\\alpha-1}e^{-\\beta x}, \n",
    "\\end{equation}\n",
    "$$\n",
    "\n",
    "where $\\Gamma \\left( \\cdot \\right)$ is the gamma function. For positive integers $\\alpha$, we have that $ \\Gamma (\\alpha )=(\\alpha -1)!$.   \n",
    "\n",
    "Suppose you observe that your wait time for this queue is 4 minutes. How would we try to obtain a maximum likelihood estimate for $\\alpha$ and $\\beta$?  \n",
    "\n",
    "For now, let's assume that you did not know how many people were in the queue in front of you. The code below plots the surface of the likelihood for $1 \\leq \\alpha \\leq 20$ and $1 \\leq \\beta \\leq 10$. "
   ]
  },
  {
   "cell_type": "code",
   "execution_count": 10,
   "metadata": {},
   "outputs": [
    {
     "data": {
      "image/png": "[encoded data removed]",
      "text/plain": [
       "plot without title"
      ]
     },
     "metadata": {},
     "output_type": "display_data"
    }
   ],
   "source": [
    "plotgamma <- function(a, b){\n",
    "  dgamma(4, shape=a, rate=b) \n",
    "  \n",
    "}\n",
    "\n",
    "alpha <- seq(1, 20, 0.1)\n",
    "beta <- seq(1, 10, 0.1)\n",
    "contour <- outer(alpha, beta,  plotgamma)\n",
    "\n",
    "persp(alpha, beta, contour)"
   ]
  },
  {
   "cell_type": "markdown",
   "metadata": {},
   "source": [
    "As you can see, the maximum likelihood estimate of $\\alpha$ depends on the value of $\\beta$ and vice-versa. There is a dependence between the two parameters for the gamma distribution. \n",
    "\n",
    "If we know that $\\alpha=12$, i.e. that there are 12 people in front of you in the queue, can you obtain the maximum likelihood estimate for $\\beta$? You can take either a graphical approach or an algebraic approach. "
   ]
  },
  {
   "cell_type": "markdown",
   "metadata": {},
   "source": [
    "[Answer here]"
   ]
  }
 ],
 "metadata": {
  "kernelspec": {
   "display_name": "R",
   "language": "R",
   "name": "ir"
  },
  "language_info": {
   "codemirror_mode": "r",
   "file_extension": ".r",
   "mimetype": "text/x-r-source",
   "name": "R",
   "pygments_lexer": "r",
   "version": "4.2.2"
  }
 },
 "nbformat": 4,
 "nbformat_minor": 4
}
