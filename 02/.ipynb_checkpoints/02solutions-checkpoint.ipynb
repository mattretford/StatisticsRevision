{
 "cells": [
  {
   "cell_type": "markdown",
   "metadata": {},
   "source": [
    "# Solutions"
   ]
  },
  {
   "cell_type": "markdown",
   "metadata": {},
   "source": [
    "## Bayes Theorem"
   ]
  },
  {
   "cell_type": "markdown",
   "metadata": {},
   "source": [
    "**Question 1.** We let $CF$ denote the event that an individual has cystic fibrosis, and $+ve$ denote the event that an individual receives a positive test result.\n",
    "\n",
    "We are told that $P(CF)=0.0325$. \n",
    "\n",
    "The sensitivity of the sweat chloride test is 91.7\\%, i.e. $P(+ve | CF) = 0.917.$ And the specificity is 99.9\\%, so $P(-ve|\\bar{CF})=0.999$."
   ]
  },
  {
   "cell_type": "markdown",
   "metadata": {},
   "source": [
    "**1.1** The positive predictive value is the probability that an individual has the disease (cystic fibrosis) given that the individual has received a positive test, $P(CF | +ve)$. It is calculated, using Bayes theorem, as\n",
    "\n",
    "$$\n",
    "P(CF | +ve) = \\frac{P(+ve | CF)P(CF)}{P(+ve | CF)P(CF) + P(+ve | \\bar{CF})P(\\bar{CF})}\n",
    "$$\n",
    "\n",
    "Putting in the values above gives\n",
    "\n",
    "$$\n",
    "P(CF | +ve) = \\frac{0.917 \\times 0.0325}{0.917 \\times 0.0325 + (1-0.999) \\times (1 - 0.0325)} = 0.968\n",
    "$$"
   ]
  },
  {
   "cell_type": "markdown",
   "metadata": {},
   "source": [
    "**1.2** The PPV is 96.8\\%, meaning that a patient whose sweat test comes back positive has a 96.8\\%\n",
    "chance of having cystic fibrosis."
   ]
  },
  {
   "cell_type": "markdown",
   "metadata": {},
   "source": [
    "**1.3** We are now told that in the population $P(CF) = 0.0004$. Then the PPV is \n",
    "\n",
    "$$\n",
    "P(CF | +ve) = \\frac{0.917 \\times 0.0004}{0.917 \\times 0.0004 + (1-0.999) \\times (1 - 0.0004)} = 0.268\n",
    "$$\n",
    "\n",
    "If we screened everyone in the general population using this test, 26.8\\% of those who had a positive\n",
    "test would actually have cystic fibrosis. This is probably not, therefore, a very useful test in this\n",
    "setting. (It would also be very expensive and logistically difficult!)."
   ]
  },
  {
   "cell_type": "markdown",
   "metadata": {},
   "source": [
    "**Question 2** [Optional]\n",
    "\n",
    "**2.1**\n",
    "\n",
    "We will use $S$ to denote the event that a patient has sepsis and $\\bar{S}$ that the patient does not. We will indicate the classification by $C_{+ve}$ and $C_{-ve}$. \n",
    "\n",
    "We are told that \n",
    "- $P(S) = 0.01$\n",
    "- $P(C_{+ve} | S) = 0.7$\n",
    "- $P(C_{+ve} \\cap S) + P(C_{-ve} \\cup \\bar{S}) = 0.8$\n",
    "\n",
    "We want to find:\n",
    "- $P(C_{+ve} \\cap S)$\n",
    "- $P(C_{-ve} \\cap S)$\n",
    "- $P(C_{+ve} \\cap \\bar{S})$\n",
    "- $P(C_{-ve} \\cap \\bar{S})$\n",
    "\n",
    "First, we note that\n",
    "\n",
    "$$\n",
    "P(C_{+ve} \\cap S) = P(C_{+ve} | S) P(S)\n",
    "$$\n",
    "\n",
    "by the usual multiplicative rule. Thus,\n",
    "\n",
    "$$\n",
    "P(C_{+ve} | S) = P(C_{+ve} \\cap S) P(S) = 0.7 \\times 0.01 = 0.007\n",
    "$$\n",
    "\n",
    "Then by the theorem of total probability, noting that $\\{C_{+ve}, C_{-ve} \\}$ partitions the sample space,\n",
    "\n",
    "$$\n",
    "P(S) = P(S | C_{+ve}) P(C_{+ve}) + P(S | C_{-ve}) P(C_{-ve}) = P(S \\cap C_{+ve}) + P(S \\cap  C_{-ve})\n",
    "$$\n",
    "\n",
    "Rearranging for $P(S \\cap  C_{-ve})$ gives\n",
    "\n",
    "$$\n",
    "P(S \\cap  C_{-ve}) = P(S) - P(S \\cap C_{+ve})  = 0.01 - 0.007 = 0.003\n",
    "$$\n",
    "\n",
    "Then we can use the total accuracy to obtain $P(C_{-ve} \\cup \\bar{S})$, since\n",
    "\n",
    "$$\n",
    "P(C_{+ve} \\cap S) + P(C_{-ve} \\cap \\bar{S}) = 0.8$\n",
    "$$\n",
    "\n",
    "which gives\n",
    "\n",
    "$$\n",
    "P(C_{-ve} \\cap \\bar{S}) = 0.8 - 0.007 = 0.793\n",
    "$$\n",
    "\n",
    "And finally, \n",
    "\n",
    "$$\n",
    "P(\\bar{S}) = P(\\bar{S} \\cap C_{+ve}) + P(\\bar{S} \\cap C_{-ve})\n",
    "$$\n",
    "\n",
    "giving\n",
    "\n",
    "$$\n",
    "P(\\bar{S} \\cap C_{+ve}) = P(\\bar{S}) - P(\\bar{S} \\cap C_{-ve}) = (1-0.01) -  0.793 = .197\n",
    "$$\n",
    "\n",
    "\n",
    "So we can fill the confusion matrix in with joint probabilities, as follows:\n",
    "\n",
    "\n",
    "| Prediction  |  Truth: | Positive | Negative |\n",
    "|:---- | ---- | :-: | :-: |\n",
    "| Positive |  | 0.007 | 0.197 |\n",
    "| Negative |  | 0.003 | 0.793 |\n"
   ]
  },
  {
   "cell_type": "markdown",
   "metadata": {},
   "source": [
    "**2.2** \n",
    "\n",
    "Among 1000 patients, we would expect the following numbers to occur in each cell (where we get each number by multiplying the joint probability in the table above by 1000):\n",
    "\n",
    "\n",
    "| Prediction  |  Truth: | Positive | Negative |\n",
    "|:---- | ---- | :-: | :-: |\n",
    "| Positive |  | 7 | 197 |\n",
    "| Negative |  | 3 | 793 |\n",
    "\n",
    "So we would expect to miss 3 cases of sepsis and incorrectly flag 197 patients as having sepsis when they do not. This seems a reasonable balance, since there are substantial consequences of missing cases of sepsis (likely death), but much less severe consequences of assessing and potentially treating extra patients.\n"
   ]
  },
  {
   "cell_type": "markdown",
   "metadata": {},
   "source": [
    "## The binomial distribution"
   ]
  },
  {
   "cell_type": "markdown",
   "metadata": {},
   "source": [
    "**Question 3.** A study of miscarriage among 70 women each of whom had 3 pregnancies."
   ]
  },
  {
   "cell_type": "markdown",
   "metadata": {},
   "source": [
    "**3.1** We are told that the study included 210 pregnancies, from which 60 resulted in miscarriage. Thus $60/210 = 0.2857$, i.e. 28.6\\% of pregnancies, resulted in miscarriage. "
   ]
  },
  {
   "cell_type": "markdown",
   "metadata": {},
   "source": [
    "**3.2** Let $X$ be the number of miscarriages in three pregnancies for a single woman. We can model $X$ as a binomial variable if we are prepared to assume that \n",
    "-  the probability of a miscarriage in one pregnancy is independent of the outcomes of the other pregnancies (from the same woman) \n",
    "- the probability of miscarriage is constant (esp. between women)\n",
    "\n",
    "Then the study consists of $N=70$ observations from a binomial variable $X \\sim binomial(3, 0.286)$. \n",
    " "
   ]
  },
  {
   "cell_type": "markdown",
   "metadata": {},
   "source": [
    "**3.3** Using the standard binomial PDF, with $n=3$ and $\\pi=0.286$, we have\n",
    "\n",
    "$$\n",
    "P(X=x) = \\begin{pmatrix}3 \\\\ x \\end{pmatrix} 0.286^{x} (1-0.286)^{3-x}, \\mbox{ for } x=0,1,2, 3.\n",
    "$$\n",
    "\n",
    "Plugging in individual values of x gives:\n",
    "\n",
    "| $x$  |  P(X=$x$) |\n",
    "|---- | ---- |\n",
    "| 0 | 0.364 |\n",
    "| 1 | 0.437 |\n",
    "| 2 | 0.175 |\n",
    "| 3 | 0.023 |\n",
    "\n",
    "We can obtain the same information from R using the code below:"
   ]
  },
  {
   "cell_type": "code",
   "execution_count": 2,
   "metadata": {},
   "outputs": [
    {
     "data": {
      "text/html": [
       "<ol class=list-inline>\n",
       "\t<li>0.363994344</li>\n",
       "\t<li>0.437404968</li>\n",
       "\t<li>0.175207032</li>\n",
       "\t<li>0.023393656</li>\n",
       "</ol>\n"
      ],
      "text/latex": [
       "\\begin{enumerate*}\n",
       "\\item 0.363994344\n",
       "\\item 0.437404968\n",
       "\\item 0.175207032\n",
       "\\item 0.023393656\n",
       "\\end{enumerate*}\n"
      ],
      "text/markdown": [
       "1. 0.363994344\n",
       "2. 0.437404968\n",
       "3. 0.175207032\n",
       "4. 0.023393656\n",
       "\n",
       "\n"
      ],
      "text/plain": [
       "[1] 0.36399434 0.43740497 0.17520703 0.02339366"
      ]
     },
     "metadata": {},
     "output_type": "display_data"
    }
   ],
   "source": [
    "# Obtain the probability distribution function (for values x=0,1,...,8)\n",
    "x <- seq(0,3)\n",
    "pi <- 0.286\n",
    "px <- dbinom(x, 3, pi)\n",
    "px"
   ]
  },
  {
   "cell_type": "markdown",
   "metadata": {},
   "source": [
    "**3.4** Among 70 women, we would expect \n",
    "\n",
    "\n",
    "| $x$  |  P(X=$x$) | Expected number with $x$ miscarriages | Observed number |\n",
    "| :-: | :-: | :-: | :-: |\n",
    "| 0 | 0.364 | 70 $\\times$ 0.364 =  25.5 | 27 |\n",
    "| 1 | 0.437 | 70 $\\times$ 0.437 =  30.6 | 28 |\n",
    "| 2 | 0.175 | 70 $\\times$ 0.175 =  12.3 | 7 |\n",
    "| 3 | 0.023 | 70 $\\times$ 0.023 = 1.6 | 8 |\n",
    "\n",
    "**3.5**  There is poor agreement between observed and expected frequencies under the assumption of a\n",
    "Binomial model. In particular, we have more women than expected with 2 and particularly 3 miscarriages. This implies that the assumptions of constant probability of miscarriage and independence between pregnancies are probably invalid. It is possible that some women are more prone to miscarriage than others.\n"
   ]
  },
  {
   "cell_type": "markdown",
   "metadata": {},
   "source": [
    "**Question 4.**  $X \\sim binomial(n, \\pi)$. Then $X$ is the sum of $n$ independent Bernoulli trials. So let $X_j$ be the $j^{th}$ trial. Then $X = \\sum_{j=1}^n X_j$. So\n",
    "\n",
    "$$\n",
    "E(X) = E\\left(\\sum_{j=1}^n X_j \\right) = \\sum_{j=1}^n E(X_j) = \\sum_{j=1}^n\\pi = n \\pi\n",
    "$$\n",
    "\n",
    "$$\n",
    "Var(X) = Var\\left(\\sum_{j=1}^n X_j \\right) = \\sum_{j=1}^n   Var( X_j )\n",
    "$$\n",
    "\n",
    "where we can only do that last step because the Bernoulli trials are assumed *independent*.  Then this gives\n",
    "\n",
    "$$\n",
    "Var(X) = n \\pi (1-\\pi)\n",
    "$$\n"
   ]
  },
  {
   "cell_type": "markdown",
   "metadata": {},
   "source": [
    "## The Poisson distribution"
   ]
  },
  {
   "cell_type": "markdown",
   "metadata": {},
   "source": [
    "**Question 5** Accidental drownings. "
   ]
  },
  {
   "cell_type": "markdown",
   "metadata": {},
   "source": [
    "**5.1** We are told the average number of accidental drownings per year in the US is 3 per 100,000. In a city of 200,000 people, $\\mu =$ expected number of drownings in a year = 2 $\\times$ 3 = 6."
   ]
  },
  {
   "cell_type": "markdown",
   "metadata": {},
   "source": [
    "**5.2** The random variable of interest here is the number of accidental drownings (in this city) in a year.\n",
    "This is a count of the total number of events occurring at random in a fixed period of time, hence we model this count using the Poisson distribution.\n",
    "\n",
    "If the random variable $X$ denotes the number of drownings in one year in this city, then\n",
    "\n",
    "$$\n",
    "X \\sim Poisson(\\mu = 6)\n",
    "$$\n",
    "\n",
    "Using the standard probability distribution function for a Poisson variable, with $\\mu = 6$, we have:\n",
    "\n",
    "$$\n",
    "P(X=x) = \\frac{e^{-\\mu} \\mu^x}{x!} = \\frac{e^{-6} 6^x}{x!}  \\mbox{  for  }  x=0, 1, ...\n",
    "$$\n",
    "\n",
    "**5.2.A** Therefore, \n",
    "\n",
    "$$\n",
    "P(X=0) = \\frac{e^{-6} 6^0}{0!} = 0.00247.\n",
    "$$\n",
    "\n",
    "**5.2.B** Between 1 and 2 (inclusive) means that $X$ must take values 1 or 2, so the probability we want is $P(X=1) + P(X=2)$ \n",
    "\n",
    "$$\n",
    "P(1 \\leq X \\leq 2) = P(X=1) + P(X=2) =  \\frac{e^{-6} 6^1}{1!} +  \\frac{e^{-6} 6^2}{2!} = 0.0595.\n",
    "$$\n",
    "\n",
    "\n",
    "**5.2.C** More than 2 drownings means that $X$ must take values 3, 4, 5, ... \n",
    "\n",
    "$$\n",
    "P(X > 2) = 1 - P(X \\leq 2) = 1 - \\left\\{ P(X=0) + P(X=1) + P(X=2) \\right\\} \n",
    "$$\n",
    "\n",
    "Using the answers above, this is\n",
    "\n",
    "$$\n",
    "P(X > 2) = 1 - 0.00247 - 0.0595 = 0.93803\n",
    "$$\n",
    "\n",
    "We can also obtain the probability distribution function from R, using the code below."
   ]
  },
  {
   "cell_type": "code",
   "execution_count": 4,
   "metadata": {},
   "outputs": [
    {
     "data": {
      "text/html": [
       "0.00247875217666636"
      ],
      "text/latex": [
       "0.00247875217666636"
      ],
      "text/markdown": [
       "0.00247875217666636"
      ],
      "text/plain": [
       "[1] 0.002478752"
      ]
     },
     "metadata": {},
     "output_type": "display_data"
    },
    {
     "data": {
      "text/html": [
       "0.0594900522399926"
      ],
      "text/latex": [
       "0.0594900522399926"
      ],
      "text/markdown": [
       "0.0594900522399926"
      ],
      "text/plain": [
       "[1] 0.05949005"
      ]
     },
     "metadata": {},
     "output_type": "display_data"
    },
    {
     "data": {
      "text/html": [
       "0.938031195583341"
      ],
      "text/latex": [
       "0.938031195583341"
      ],
      "text/markdown": [
       "0.938031195583341"
      ],
      "text/plain": [
       "[1] 0.9380312"
      ]
     },
     "metadata": {},
     "output_type": "display_data"
    }
   ],
   "source": [
    "# P(X=0)\n",
    "dpois(0, 6)\n",
    "\n",
    "# P(1<=X<=2)\n",
    "dpois(1, 6) + dpois(2, 6)\n",
    "\n",
    "# P(X>2)\n",
    "1 - (dpois(0, 6) + dpois(1, 6) + dpois(2, 6))\n"
   ]
  },
  {
   "cell_type": "markdown",
   "metadata": {},
   "source": [
    "**Question6** \n",
    "\n",
    "*Expectation*\n",
    "\n",
    "To derive the expectation of a Poisson random variable $X$ with parameter $\\mu$, we start by putting the probability distribution function for a Poisson in the standard expression for a mean.\n",
    "\n",
    "$$\n",
    "E(X) = \\sum_{j=0}^\\infty j P(X=j) =  \\sum_{j=0}^\\infty j \\frac{e^{-\\mu} \\mu^j}{j!}  =  \\sum_{j=0}^\\infty \\frac{e^{-\\mu} \\mu^j}{(j-1)!} \n",
    "$$\n",
    "\n",
    "The first term (when $j=0$) is zero, so we can write this as\n",
    "\n",
    "$$\n",
    "E(X) = \\sum_{j=1}^\\infty  \\frac{e^{-\\mu} \\mu^j}{(j-1)!} \n",
    "$$\n",
    "\n",
    "Now we are going to let $i=j-1$. So we have $j=i+1$. And when $j=1$, $i=0$. Then the sum above becomes\n",
    "\n",
    "$$\n",
    "E(X) = \\sum_{i=0}^\\infty \\frac{e^{-\\mu} \\mu^{i+1}}{i!}  = \\mu \\sum_{i=0}^\\infty  \\frac{e^{-\\mu} \\mu^{i}}{i!} \n",
    "$$\n",
    "\n",
    "We recognise the summation at the end as the sum of the probability distribution function over the whole sample space, thus this must sum to one. Thus\n",
    "\n",
    "$$\n",
    "E(X) = \\mu\n",
    "$$\n",
    "\n",
    "*Variance*\n",
    "\n",
    "We first start by calculating $E(X^2)$. Similarly to above,\n",
    "\n",
    "$$\n",
    "E(X^2) = \\sum_{j=0}^\\infty j^2 P(X=j) =  \\sum_{j=1}^\\infty j^2 \\frac{e^{-\\mu} \\mu^j}{j!} \n",
    "$$\n",
    "\n",
    "Letting $i=j-1$, we have\n",
    "\n",
    "$$\n",
    "E(X^2) = \\sum_{i=0}^\\infty (i+1)^2 \\frac{e^{-\\mu} \\mu^{i+1}}{(i+1)!}  =  \\sum_{i=0}^\\infty (i+1) \\frac{e^{-\\mu} \\mu^{i+1}}{i!}\n",
    "$$\n",
    "\n",
    "Splitting this into two terms, and taking a single $\\mu$ out of each term, we have\n",
    "\n",
    "$$\n",
    "E(X^2) = \\mu \\sum_{i=0}^\\infty i \\frac{e^{-\\mu} \\mu^i}{i!} + \\mu \\sum_{i=0}^\\infty \\frac{e^{-\\mu} \\mu^i}{i!}\n",
    "$$\n",
    "\n",
    "The second summation is simply the probability distribution, summed over the sample space, so sums to one. The first summation is the expression for the mean, $E(X)$, which we have shown is equal to $\\mu$. Thus\n",
    "\n",
    "$$\n",
    "E(X^2) = \\mu^2 + \\mu \n",
    "$$\n",
    "\n",
    "Then using the standard formula, $Var(X) = E(X^2) - E(X)^2$ gives\n",
    "\n",
    "$$\n",
    "Var(X) = \\mu^2 + \\mu - \\mu^2 = \\mu\n",
    "$$"
   ]
  },
  {
   "cell_type": "code",
   "execution_count": null,
   "metadata": {},
   "outputs": [],
   "source": []
  }
 ],
 "metadata": {
  "kernelspec": {
   "display_name": "R",
   "language": "R",
   "name": "ir"
  },
  "language_info": {
   "codemirror_mode": "r",
   "file_extension": ".r",
   "mimetype": "text/x-r-source",
   "name": "R",
   "pygments_lexer": "r",
   "version": "4.2.2"
  }
 },
 "nbformat": 4,
 "nbformat_minor": 4
}
