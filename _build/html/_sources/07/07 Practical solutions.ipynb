{
 "cells": [
  {
   "cell_type": "markdown",
   "metadata": {},
   "source": [
    "# 7 Practical: Confidence Intervals Solutions"
   ]
  },
  {
   "cell_type": "markdown",
   "metadata": {},
   "source": [
    "In this practical you will\n",
    "\n",
    "- Explore the effect of sample size on confidence intervals\n",
    "- Explore how confidence intervals change when the level changes\n",
    "- Obtain confidence intervals for a mean, a difference in means and (optional) a proportion\n",
    "- (optional) Explore how to obtain bootstrap confidence intervals\n",
    "\n",
    "We will use the mother and baby dataset."
   ]
  },
  {
   "cell_type": "markdown",
   "metadata": {},
   "source": [
    "## Confidence Intervals and Reference Ranges"
   ]
  },
  {
   "cell_type": "markdown",
   "metadata": {},
   "source": [
    "**Question 1.** \n",
    "\n",
    "i.The code below draws a histogram of birthweight, showing a symmetric bell-shaped distribution. There is no missing data in the variable and no obvious outliers (min=55 ounces, max=176 ounces). The mean and standard deviation are: 119.46 ounces and 18.3 ounces."
   ]
  },
  {
   "cell_type": "code",
   "execution_count": 2,
   "metadata": {},
   "outputs": [
    {
     "data": {
      "text/plain": [
       "   Min. 1st Qu.  Median    Mean 3rd Qu.    Max. \n",
       "   55.0   108.0   120.0   119.5   131.0   176.0 "
      ]
     },
     "metadata": {},
     "output_type": "display_data"
    },
    {
     "data": {
      "text/html": [
       "0"
      ],
      "text/latex": [
       "0"
      ],
      "text/markdown": [
       "0"
      ],
      "text/plain": [
       "[1] 0"
      ]
     },
     "metadata": {},
     "output_type": "display_data"
    },
    {
     "data": {
      "text/html": [
       "119.462521294719"
      ],
      "text/latex": [
       "119.462521294719"
      ],
      "text/markdown": [
       "119.462521294719"
      ],
      "text/plain": [
       "[1] 119.4625"
      ]
     },
     "metadata": {},
     "output_type": "display_data"
    },
    {
     "data": {
      "text/html": [
       "18.328671443321"
      ],
      "text/latex": [
       "18.328671443321"
      ],
      "text/markdown": [
       "18.328671443321"
      ],
      "text/plain": [
       "[1] 18.32867"
      ]
     },
     "metadata": {},
     "output_type": "display_data"
    },
    {
     "data": {
      "image/png": "[encoded data removed]",
      "text/plain": [
       "Plot with title \"Histogram of baby$Birth.Weight\""
      ]
     },
     "metadata": {},
     "output_type": "display_data"
    }
   ],
   "source": [
    "# Open mother-baby data\n",
    "baby <- read.csv(\"baby.csv\", sep=\",\")\n",
    "\n",
    "# Explore birth weight\n",
    "options(repr.plot.width=3, repr.plot.height=3)\n",
    "hist(baby$Birth.Weight)\n",
    "\n",
    "# Look at the variable\n",
    "summary(baby$Birth.Weight)\n",
    "sum(is.na(baby$Birth.Weight))\n",
    "\n",
    "# Mean birthweight\n",
    "mean(baby$Birth.Weight)\n",
    "\n",
    "# Standard deviation\n",
    "sqrt(var(baby$Birth.Weight))\n",
    "\n"
   ]
  },
  {
   "cell_type": "markdown",
   "metadata": {},
   "source": [
    "ii. The reference range (using code below) runs from 83.5 ounces to 155.4 ounces. So we expect 95% of individual baby weights, in this population, to lie within the range: (83.5, 155.4)."
   ]
  },
  {
   "cell_type": "code",
   "execution_count": 3,
   "metadata": {},
   "outputs": [
    {
     "data": {
      "text/html": [
       "83.5383252658098"
      ],
      "text/latex": [
       "83.5383252658098"
      ],
      "text/markdown": [
       "83.5383252658098"
      ],
      "text/plain": [
       "[1] 83.53833"
      ]
     },
     "metadata": {},
     "output_type": "display_data"
    },
    {
     "data": {
      "text/html": [
       "155.386717323628"
      ],
      "text/latex": [
       "155.386717323628"
      ],
      "text/markdown": [
       "155.386717323628"
      ],
      "text/plain": [
       "[1] 155.3867"
      ]
     },
     "metadata": {},
     "output_type": "display_data"
    }
   ],
   "source": [
    "# Reference range\n",
    "mean(baby$Birth.Weight) - 1.96*sqrt(var(baby$Birth.Weight))\n",
    "mean(baby$Birth.Weight) + 1.96*sqrt(var(baby$Birth.Weight))"
   ]
  },
  {
   "cell_type": "markdown",
   "metadata": {},
   "source": [
    "iii. The standard error is $SE=\\sigma/\\sqrt{n}$, where $\\sigma$ is the standard deviation of baby weights and $n$ is the sample size (n=1174 here). Plugging in the numbers, $SE = 18.3/\\sqrt{1174} = 0.53$.  Alternatively, in R:"
   ]
  },
  {
   "cell_type": "code",
   "execution_count": 4,
   "metadata": {},
   "outputs": [
    {
     "data": {
      "text/html": [
       "0.534929979080364"
      ],
      "text/latex": [
       "0.534929979080364"
      ],
      "text/markdown": [
       "0.534929979080364"
      ],
      "text/plain": [
       "[1] 0.53493"
      ]
     },
     "metadata": {},
     "output_type": "display_data"
    }
   ],
   "source": [
    "(se <- sqrt(var(baby$Birth.Weight))/sqrt(sum(!is.na(baby$Birth.Weight))))"
   ]
  },
  {
   "cell_type": "markdown",
   "metadata": {},
   "source": [
    "A 95% confidence interval for the population mean birthweight is obtained as:\n",
    "$$\n",
    "\\mbox{Sample mean} \\pm 1.96 \\times SE(\\mbox{mean})\n",
    "$$\n",
    "The code below calculates these two limits."
   ]
  },
  {
   "cell_type": "code",
   "execution_count": 5,
   "metadata": {},
   "outputs": [
    {
     "data": {
      "text/html": [
       "120.510984053716"
      ],
      "text/latex": [
       "120.510984053716"
      ],
      "text/markdown": [
       "120.510984053716"
      ],
      "text/plain": [
       "[1] 120.511"
      ]
     },
     "metadata": {},
     "output_type": "display_data"
    },
    {
     "data": {
      "text/html": [
       "118.414058535721"
      ],
      "text/latex": [
       "118.414058535721"
      ],
      "text/markdown": [
       "118.414058535721"
      ],
      "text/plain": [
       "[1] 118.4141"
      ]
     },
     "metadata": {},
     "output_type": "display_data"
    }
   ],
   "source": [
    "mean(baby$Birth.Weight) + 1.96*se\n",
    "mean(baby$Birth.Weight) - 1.96*se"
   ]
  },
  {
   "cell_type": "markdown",
   "metadata": {},
   "source": [
    "As we will see towards the end of the session, the validity of this confidence requires a large-sample approximation, but this is fine because this is a large sample. \n",
    "\n",
    "The 95% confidence interval for the mean runs from 118.4 to 120.5 (ounces). \n",
    "\n",
    "The 95% reference range for baby weights runs from 83.5 to 155.4 (ounces).\n",
    "\n",
    "Hopefully, it's clear that the 95% CI is much narrower. The confidence interval is a range of values which we believe are plausible values for the **mean**. So the fact that this is an interval at all, rather than just a point, reflects our lack of knowledge, our uncertainty, about this value. \n",
    "\n",
    "The reference range, however, reflects the inherent biological variability in individual baby weights. No matter how much we know, we can never narrow this range meaningfully. "
   ]
  },
  {
   "cell_type": "markdown",
   "metadata": {},
   "source": [
    "iv. The code below repeats in the subsample in which the mother smokes."
   ]
  },
  {
   "cell_type": "code",
   "execution_count": 17,
   "metadata": {},
   "outputs": [
    {
     "data": {
      "text/html": [
       "113.81917211329"
      ],
      "text/latex": [
       "113.81917211329"
      ],
      "text/markdown": [
       "113.81917211329"
      ],
      "text/plain": [
       "[1] 113.8192"
      ]
     },
     "metadata": {},
     "output_type": "display_data"
    },
    {
     "data": {
      "text/html": [
       "18.2950103731395"
      ],
      "text/latex": [
       "18.2950103731395"
      ],
      "text/markdown": [
       "18.2950103731395"
      ],
      "text/plain": [
       "[1] 18.29501"
      ]
     },
     "metadata": {},
     "output_type": "display_data"
    },
    {
     "data": {
      "text/html": [
       "77.9609517819364"
      ],
      "text/latex": [
       "77.9609517819364"
      ],
      "text/markdown": [
       "77.9609517819364"
      ],
      "text/plain": [
       "[1] 77.96095"
      ]
     },
     "metadata": {},
     "output_type": "display_data"
    },
    {
     "data": {
      "text/html": [
       "149.677392444643"
      ],
      "text/latex": [
       "149.677392444643"
      ],
      "text/markdown": [
       "149.677392444643"
      ],
      "text/plain": [
       "[1] 149.6774"
      ]
     },
     "metadata": {},
     "output_type": "display_data"
    },
    {
     "data": {
      "text/html": [
       "0.85393795541977"
      ],
      "text/latex": [
       "0.85393795541977"
      ],
      "text/markdown": [
       "0.85393795541977"
      ],
      "text/plain": [
       "[1] 0.853938"
      ]
     },
     "metadata": {},
     "output_type": "display_data"
    },
    {
     "data": {
      "text/html": [
       "115.492890505913"
      ],
      "text/latex": [
       "115.492890505913"
      ],
      "text/markdown": [
       "115.492890505913"
      ],
      "text/plain": [
       "[1] 115.4929"
      ]
     },
     "metadata": {},
     "output_type": "display_data"
    },
    {
     "data": {
      "text/html": [
       "112.145453720667"
      ],
      "text/latex": [
       "112.145453720667"
      ],
      "text/markdown": [
       "112.145453720667"
      ],
      "text/plain": [
       "[1] 112.1455"
      ]
     },
     "metadata": {},
     "output_type": "display_data"
    }
   ],
   "source": [
    "### Smaller sample (mother-baby pairs where the mother smokes)\n",
    "babysmoke <-subset(baby, baby$Maternal.Smoker == \"True\")\n",
    "\n",
    "mean(babysmoke$Birth.Weight)\n",
    "sqrt(var(babysmoke$Birth.Weight))\n",
    "\n",
    "# Reference range\n",
    "mean(babysmoke$Birth.Weight) - 1.96*sqrt(var(babysmoke$Birth.Weight))\n",
    "mean(babysmoke$Birth.Weight) + 1.96*sqrt(var(babysmoke$Birth.Weight))\n",
    "\n",
    "\n",
    "### Estimated standard error\n",
    "(se_sm <- sqrt(var(babysmoke$Birth.Weight))/sqrt(sum(!is.na(babysmoke$Birth.Weight))))\n",
    "\n",
    "### 95% CI\n",
    "mean(babysmoke$Birth.Weight) + 1.96*se_sm\n",
    "mean(babysmoke$Birth.Weight) - 1.96*se_sm\n",
    "\n",
    " "
   ]
  },
  {
   "cell_type": "markdown",
   "metadata": {},
   "source": [
    "The table below compares all the statistics we have calculated between the full sample and the subsample in which the mother smokes. \n",
    "\n",
    "| Statistic |  Full sample  |  Smokers  |\n",
    "| ---- | ---- | ---- |\n",
    "| n | 1174 | 459 |\n",
    "| Mean | 119.5 | 113.8 |\n",
    "| SD | 18.3 | 18.3 |\n",
    "| SE | 0.53 | 0.85 |\n",
    "| 95% reference range | 83.5 to 155.4 | 78.0 to 149.7 |\n",
    "| 95% confidence interval |  118.4 to 120.5 | 112.1 to 115.5 | \n",
    "\n",
    "The mean birth weight of babies born to smoking mothers is a little lower, which is in the direction we might expect. The standard deviation - the inherent variability in individual baby weights - is very similar in the two datasets. This is fairly typical - changing the sample size per se does not affect the standar deviation. This number would only change substantially if (a) we had a tiny sample in which it was hard to estimate the variability, or (b) the inherent variability really was different in this subset.The standard error, conversely, is very different. The standard error is $\\sigma/\\sqrt{n}$. We've seen that the denominators are basically the same, so this difference is purely due to the change in sample size. Larger sample sizes result in lower standard errors (more precision).\n",
    "\n",
    "The reference range widths are similar, because the standard deviations are similar, and this determines the width of the interval. The range for the smokers is shifted a little to the left (lower numbers), because the sample mean is a little lower in smokers.\n",
    "\n",
    "The confidence interval is narrower for the whole sample, because we have more precision (a larger sample). "
   ]
  },
  {
   "cell_type": "markdown",
   "metadata": {},
   "source": [
    "## Levels of confidence intervals"
   ]
  },
  {
   "cell_type": "markdown",
   "metadata": {},
   "source": [
    "**Question 2.**  \n",
    "\n",
    "i. The 95% confidence interval for the mean produced by the t.test function below is the same as the manual one we calculated above. Note that the output also displays the sample mean, which is the same as we found above."
   ]
  },
  {
   "cell_type": "code",
   "execution_count": 21,
   "metadata": {},
   "outputs": [
    {
     "data": {
      "text/plain": [
       "\n",
       "\tOne Sample t-test\n",
       "\n",
       "data:  baby$Birth.Weight\n",
       "t = 223.32, df = 1173, p-value < 2.2e-16\n",
       "alternative hypothesis: true mean is not equal to 0\n",
       "95 percent confidence interval:\n",
       " 118.413 120.512\n",
       "sample estimates:\n",
       "mean of x \n",
       " 119.4625 \n"
      ]
     },
     "metadata": {},
     "output_type": "display_data"
    }
   ],
   "source": [
    "t.test(baby$Birth.Weight, data=baby, conf.level = 0.95)"
   ]
  },
  {
   "cell_type": "markdown",
   "metadata": {},
   "source": [
    "ii. The code below changes the level of the confidence interval."
   ]
  },
  {
   "cell_type": "code",
   "execution_count": 14,
   "metadata": {},
   "outputs": [
    {
     "data": {
      "text/plain": [
       "\n",
       "\tOne Sample t-test\n",
       "\n",
       "data:  baby$Birth.Weight\n",
       "t = 223.32, df = 1173, p-value < 2.2e-16\n",
       "alternative hypothesis: true mean is not equal to 0\n",
       "99 percent confidence interval:\n",
       " 118.0824 120.8427\n",
       "sample estimates:\n",
       "mean of x \n",
       " 119.4625 \n"
      ]
     },
     "metadata": {},
     "output_type": "display_data"
    },
    {
     "data": {
      "text/plain": [
       "\n",
       "\tOne Sample t-test\n",
       "\n",
       "data:  baby$Birth.Weight\n",
       "t = 223.32, df = 1173, p-value < 2.2e-16\n",
       "alternative hypothesis: true mean is not equal to 0\n",
       "80 percent confidence interval:\n",
       " 118.7766 120.1484\n",
       "sample estimates:\n",
       "mean of x \n",
       " 119.4625 \n"
      ]
     },
     "metadata": {},
     "output_type": "display_data"
    },
    {
     "data": {
      "text/plain": [
       "\n",
       "\tOne Sample t-test\n",
       "\n",
       "data:  baby$Birth.Weight\n",
       "t = 223.32, df = 1173, p-value < 2.2e-16\n",
       "alternative hypothesis: true mean is not equal to 0\n",
       "99.9 percent confidence interval:\n",
       " 117.6979 121.2272\n",
       "sample estimates:\n",
       "mean of x \n",
       " 119.4625 \n"
      ]
     },
     "metadata": {},
     "output_type": "display_data"
    }
   ],
   "source": [
    "t.test(baby$Birth.Weight, data=baby, conf.level = 0.99)\n",
    "t.test(baby$Birth.Weight, data=baby, conf.level = 0.80)\n",
    "t.test(baby$Birth.Weight, data=baby, conf.level = 0.999)"
   ]
  },
  {
   "cell_type": "markdown",
   "metadata": {},
   "source": [
    "All of these intervals are centred around the same mean (119.5). The 95% CI is one which, under repeated sampling, would contain the true value $\\mu$ 95% of the time. The 99.9% CI is one which, under repeated sampling, would contain the true value 99.9% of the time. So this interval needs to be much wider to ensure that higher coverage.\n",
    "\n",
    "\n",
    "| Level | Confidence Interval  |\n",
    "| ---- | ---- | \n",
    "| 80% |  118.8 to 120.1 | \n",
    "| 95% |  118.4 to 120.5  | \n",
    "| 99% |  118.1 to 120.8 | \n",
    "| 99.9% |  117.7 to 121.2  | \n"
   ]
  },
  {
   "cell_type": "markdown",
   "metadata": {},
   "source": [
    "# Exploring different confidence intervals"
   ]
  },
  {
   "cell_type": "markdown",
   "metadata": {},
   "source": [
    "**Question 3.** \n",
    "\n",
    "i. The code below performs some summaries of the two groups - those with mothers who smoke and those with mothers who don't smoke. "
   ]
  },
  {
   "cell_type": "code",
   "execution_count": 4,
   "metadata": {},
   "outputs": [
    {
     "data": {
      "text/plain": [
       "Maternal.Smoker\n",
       "False  True \n",
       "  715   459 "
      ]
     },
     "metadata": {},
     "output_type": "display_data"
    },
    {
     "data": {
      "text/plain": [
       "   Min. 1st Qu.  Median    Mean 3rd Qu.    Max. \n",
       "   58.0   101.0   115.0   113.8   126.0   163.0 "
      ]
     },
     "metadata": {},
     "output_type": "display_data"
    },
    {
     "data": {
      "text/plain": [
       "   Min. 1st Qu.  Median    Mean 3rd Qu.    Max. \n",
       "   55.0   113.0   123.0   123.1   134.0   176.0 "
      ]
     },
     "metadata": {},
     "output_type": "display_data"
    },
    {
     "data": {
      "text/html": [
       "113.81917211329"
      ],
      "text/latex": [
       "113.81917211329"
      ],
      "text/markdown": [
       "113.81917211329"
      ],
      "text/plain": [
       "[1] 113.8192"
      ]
     },
     "metadata": {},
     "output_type": "display_data"
    },
    {
     "data": {
      "text/html": [
       "123.085314685315"
      ],
      "text/latex": [
       "123.085314685315"
      ],
      "text/markdown": [
       "123.085314685315"
      ],
      "text/plain": [
       "[1] 123.0853"
      ]
     },
     "metadata": {},
     "output_type": "display_data"
    },
    {
     "data": {
      "text/html": [
       "18.2950103731395"
      ],
      "text/latex": [
       "18.2950103731395"
      ],
      "text/markdown": [
       "18.2950103731395"
      ],
      "text/plain": [
       "[1] 18.29501"
      ]
     },
     "metadata": {},
     "output_type": "display_data"
    },
    {
     "data": {
      "text/html": [
       "17.4236950210094"
      ],
      "text/latex": [
       "17.4236950210094"
      ],
      "text/markdown": [
       "17.4236950210094"
      ],
      "text/plain": [
       "[1] 17.4237"
      ]
     },
     "metadata": {},
     "output_type": "display_data"
    }
   ],
   "source": [
    "with(baby, table(Maternal.Smoker))\n",
    "\n",
    "babysmoke <-subset(baby, baby$Maternal.Smoker == \"True\")\n",
    "babynonsmoke <-subset(baby, baby$Maternal.Smoker == \"False\")\n",
    "\n",
    "# Summarise birth weight by smoking group\n",
    "summary(babysmoke$Birth.Weight)\n",
    "summary(babynonsmoke$Birth.Weight)\n",
    "\n",
    "mean(babysmoke$Birth.Weight)\n",
    "mean(babynonsmoke$Birth.Weight)\n",
    "\n",
    "sqrt(var(babysmoke$Birth.Weight))\n",
    "sqrt(var(babynonsmoke$Birth.Weight))\n"
   ]
  },
  {
   "cell_type": "markdown",
   "metadata": {},
   "source": [
    "We see that the mean is a little lower among mothers who smoke, but that the standard deviations are quite similar.  Below, we calculate a 95% confidence interval for the difference in means."
   ]
  },
  {
   "cell_type": "code",
   "execution_count": 23,
   "metadata": {},
   "outputs": [
    {
     "data": {
      "text/plain": [
       "\n",
       "\tWelch Two Sample t-test\n",
       "\n",
       "data:  baby$Birth.Weight by baby$Maternal.Smoker\n",
       "t = 8.6265, df = 941.81, p-value < 2.2e-16\n",
       "alternative hypothesis: true difference in means is not equal to 0\n",
       "95 percent confidence interval:\n",
       "  7.158132 11.374153\n",
       "sample estimates:\n",
       "mean in group False  mean in group True \n",
       "           123.0853            113.8192 \n"
      ]
     },
     "metadata": {},
     "output_type": "display_data"
    },
    {
     "data": {
      "text/html": [
       "9.266142572025"
      ],
      "text/latex": [
       "9.266142572025"
      ],
      "text/markdown": [
       "9.266142572025"
      ],
      "text/plain": [
       "[1] 9.266143"
      ]
     },
     "metadata": {},
     "output_type": "display_data"
    }
   ],
   "source": [
    "# Difference in means\n",
    "t.test(baby$Birth.Weight ~ baby$Maternal.Smoker, data=baby, conf.level = 0.95)\n",
    "\n",
    "123.085314685315 - 113.81917211329\n"
   ]
  },
  {
   "cell_type": "markdown",
   "metadata": {},
   "source": [
    "ii. The code below calculates an approximate large-sample 95% confidence interval for the proportion of mothers who smoke."
   ]
  },
  {
   "cell_type": "code",
   "execution_count": 5,
   "metadata": {},
   "outputs": [
    {
     "data": {
      "text/html": [
       "0.390971039182283"
      ],
      "text/latex": [
       "0.390971039182283"
      ],
      "text/markdown": [
       "0.390971039182283"
      ],
      "text/plain": [
       "[1] 0.390971"
      ]
     },
     "metadata": {},
     "output_type": "display_data"
    },
    {
     "data": {
      "text/html": [
       "0.363057603794912"
      ],
      "text/latex": [
       "0.363057603794912"
      ],
      "text/markdown": [
       "0.363057603794912"
      ],
      "text/plain": [
       "[1] 0.3630576"
      ]
     },
     "metadata": {},
     "output_type": "display_data"
    },
    {
     "data": {
      "text/html": [
       "0.418884474569654"
      ],
      "text/latex": [
       "0.418884474569654"
      ],
      "text/markdown": [
       "0.418884474569654"
      ],
      "text/plain": [
       "[1] 0.4188845"
      ]
     },
     "metadata": {},
     "output_type": "display_data"
    }
   ],
   "source": [
    "n<- length(baby$Birth.Weight)\n",
    "(prop <- length(babysmoke$Birth.Weight)/n)\n",
    "se_prop <- sqrt(prop*(1-prop)/n)\n",
    "\n",
    "prop - 1.96*se_prop\n",
    "prop + 1.96*se_prop"
   ]
  },
  {
   "cell_type": "markdown",
   "metadata": {},
   "source": [
    "We see that 39.1% of mothers smoke in this sample of data. The 95% confidence interval for the proportion runs from 36.3% to 41.8%. \n",
    "\n",
    "Below, a number of other confidence intervals for the proportion are calculated. "
   ]
  },
  {
   "cell_type": "code",
   "execution_count": 19,
   "metadata": {},
   "outputs": [
    {
     "data": {
      "text/plain": [
       "\n",
       "\tExact binomial test\n",
       "\n",
       "data:  459 and 1174\n",
       "number of successes = 459, number of trials = 1174, p-value = 7.928e-14\n",
       "alternative hypothesis: true probability of success is not equal to 0.5\n",
       "95 percent confidence interval:\n",
       " 0.3629351 0.4195547\n",
       "sample estimates:\n",
       "probability of success \n",
       "              0.390971 \n"
      ]
     },
     "metadata": {},
     "output_type": "display_data"
    },
    {
     "data": {
      "text/plain": [
       "\n",
       "\t1-sample proportions test with continuity correction\n",
       "\n",
       "data:  459 out of 1174, null probability 0.5\n",
       "X-squared = 55.388, df = 1, p-value = 9.896e-14\n",
       "alternative hypothesis: true p is not equal to 0.5\n",
       "95 percent confidence interval:\n",
       " 0.3630379 0.4196262\n",
       "sample estimates:\n",
       "       p \n",
       "0.390971 \n"
      ]
     },
     "metadata": {},
     "output_type": "display_data"
    },
    {
     "data": {
      "text/plain": [
       "\n",
       "\t1-sample proportions test without continuity correction\n",
       "\n",
       "data:  459 out of 1174, null probability 0.5\n",
       "X-squared = 55.823, df = 1, p-value = 7.931e-14\n",
       "alternative hypothesis: true p is not equal to 0.5\n",
       "95 percent confidence interval:\n",
       " 0.3634570 0.4191963\n",
       "sample estimates:\n",
       "       p \n",
       "0.390971 \n"
      ]
     },
     "metadata": {},
     "output_type": "display_data"
    }
   ],
   "source": [
    "\n",
    "binom.test(459, 1174,\n",
    "           0.5,\n",
    "           alternative=\"two.sided\",\n",
    "           conf.level=0.95)\n",
    "\n",
    "prop.test(459, 1174, p = NULL,\n",
    "          alternative = \"two.sided\",\n",
    "          conf.level = 0.95, correct = TRUE)\n",
    "\n",
    "\n",
    "prop.test(459, 1174, p = NULL,\n",
    "          alternative = \"two.sided\",\n",
    "          conf.level = 0.95, correct = FALSE)\n"
   ]
  },
  {
   "cell_type": "markdown",
   "metadata": {},
   "source": [
    "The different CIs are shown below:\n",
    "\n",
    "\n",
    "| Method | 95% Confidence Interval  |\n",
    "| ---- | ---- | \n",
    "| Our large-sample |  36.3% to 41.8% | \n",
    "| Exact|  36.3% to 42.0%  | \n",
    "| Large sample with continuity correction |  36.3% to 42.0% | \n",
    "| Large sample without continuity correction |  36.3% to 42.0%  | \n",
    "\n",
    "Our rough-and-ready large-sample approximation is fractionally narrower than the other approaches. The other three are very similar. In this case, an exact approach is not necessary. A large-sample one approach sufficient. Our CI works on the proportion scale; many other approaches work on a transformed scale. So one of the large samples used by prop.test is probably the preferred option. In this case, the help file is very opaque about exactly which approach they are using, but it is Wilson's score method, which typically has better performance than our approximation."
   ]
  },
  {
   "cell_type": "markdown",
   "metadata": {},
   "source": [
    "iii. The boostrap 95% percentile CI runs from 118.5 to 120.5. Our 95% CI for the mean ran from 118.4 to 120.5. They are very similar. In this case, the assumptions required for both approaches appear to hold, so we would expect similar results. The bootstrap really comes into its own when we have a scenario where it is very complex to derive an analytic confidence interval, but we believe that the bootstrap principle holds, i.e. we typically use the bootstrap only when we can't obtain a valid analytic CI. \n"
   ]
  },
  {
   "cell_type": "code",
   "execution_count": 20,
   "metadata": {},
   "outputs": [
    {
     "data": {
      "text/html": [
       "119.470188245315"
      ],
      "text/latex": [
       "119.470188245315"
      ],
      "text/markdown": [
       "119.470188245315"
      ],
      "text/plain": [
       "[1] 119.4702"
      ]
     },
     "metadata": {},
     "output_type": "display_data"
    },
    {
     "data": {
      "text/html": [
       "0.504181666513072"
      ],
      "text/latex": [
       "0.504181666513072"
      ],
      "text/markdown": [
       "0.504181666513072"
      ],
      "text/plain": [
       "[1] 0.5041817"
      ]
     },
     "metadata": {},
     "output_type": "display_data"
    },
    {
     "data": {
      "text/html": [
       "<dl class=dl-horizontal>\n",
       "\t<dt>2.5%</dt>\n",
       "\t\t<dd>118.460796422487</dd>\n",
       "\t<dt>97.5%</dt>\n",
       "\t\t<dd>120.501022146508</dd>\n",
       "</dl>\n"
      ],
      "text/latex": [
       "\\begin{description*}\n",
       "\\item[2.5\\textbackslash{}\\%] 118.460796422487\n",
       "\\item[97.5\\textbackslash{}\\%] 120.501022146508\n",
       "\\end{description*}\n"
      ],
      "text/markdown": [
       "2.5%\n",
       ":   118.46079642248797.5%\n",
       ":   120.501022146508\n",
       "\n"
      ],
      "text/plain": [
       "    2.5%    97.5% \n",
       "118.4608 120.5010 "
      ]
     },
     "metadata": {},
     "output_type": "display_data"
    },
    {
     "data": {
      "image/png": "[encoded data removed]",
      "text/plain": [
       "Plot with title \"Histogram of mean.group\""
      ]
     },
     "metadata": {},
     "output_type": "display_data"
    }
   ],
   "source": [
    "# Set the seed\n",
    "set.seed(1234)\n",
    "\n",
    "# Draw bootstrap samples\n",
    "bootstrap <- lapply(1:1000, function(i) sample(baby$Birth.Weight, replace = T))\n",
    "\n",
    "# Calculate sample means in each bootstrap sample\n",
    "mean.group <- sapply(bootstrap, mean)\n",
    "\n",
    "# Some summary statistics\n",
    "mean(mean.group)\n",
    "sqrt(var(mean.group))\n",
    "                     \n",
    "# Draw a histogram\n",
    "hist(mean.group, freq=FALSE)\n",
    "\n",
    "# Print out the 2.5th and 97.5th percentiles\n",
    "quantile(mean.group, c(0.025, 0.975))"
   ]
  },
  {
   "cell_type": "code",
   "execution_count": null,
   "metadata": {},
   "outputs": [],
   "source": []
  }
 ],
 "metadata": {
  "kernelspec": {
   "display_name": "R",
   "language": "R",
   "name": "ir"
  },
  "language_info": {
   "codemirror_mode": "r",
   "file_extension": ".r",
   "mimetype": "text/x-r-source",
   "name": "R",
   "pygments_lexer": "r",
   "version": "3.6.1"
  }
 },
 "nbformat": 4,
 "nbformat_minor": 4
}
