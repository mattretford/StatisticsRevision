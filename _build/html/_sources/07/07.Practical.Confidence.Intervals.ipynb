{
 "cells": [
  {
   "cell_type": "markdown",
   "metadata": {},
   "source": [
    "# 7 Practical: Confidence Intervals"
   ]
  },
  {
   "cell_type": "markdown",
   "metadata": {},
   "source": [
    "In this practical you will\n",
    "\n",
    "- Explore the effect of sample size on confidence intervals\n",
    "- Explore how confidence intervals change when the level changes\n",
    "- Obtain confidence intervals for a mean, a difference in means and (optional) a proportion\n",
    "- (optional) Explore how to obtain bootstrap confidence intervals\n",
    "\n",
    "We will use the mother and baby dataset."
   ]
  },
  {
   "cell_type": "markdown",
   "metadata": {},
   "source": [
    "## Confidence Intervals and Reference Ranges"
   ]
  },
  {
   "cell_type": "markdown",
   "metadata": {},
   "source": [
    "Use the following code to open the mother and baby dataset"
   ]
  },
  {
   "cell_type": "code",
   "execution_count": null,
   "metadata": {},
   "outputs": [],
   "source": [
    "# Open mother-baby data\n",
    "baby <- read.csv(\"baby.csv\", sep=\",\")"
   ]
  },
  {
   "cell_type": "markdown",
   "metadata": {},
   "source": [
    "**Question 1.** \n",
    "\n",
    "i. In this question, we will consider the birth weight variable from the mother-baby dataset. Summarise and plot the variable. What does the distribution look like? Are there any missing values or outliers? "
   ]
  },
  {
   "cell_type": "code",
   "execution_count": null,
   "metadata": {},
   "outputs": [],
   "source": [
    "# Calculations here"
   ]
  },
  {
   "cell_type": "markdown",
   "metadata": {},
   "source": [
    "ii. Obtain the sample standard deviation. Use this to calculate an approximate 95% reference range for baby birth weights in this population (a range within which 95% of baby's birth weights will lie). \n"
   ]
  },
  {
   "cell_type": "code",
   "execution_count": null,
   "metadata": {},
   "outputs": [],
   "source": [
    "# Calculations here"
   ]
  },
  {
   "cell_type": "markdown",
   "metadata": {},
   "source": [
    "iii. Calculate the standard error of the mean birth weight. Use this to calculate a 95% confidence interval for the population mean birthweight. Compare the reference range to the confidence interval. Which is wider? "
   ]
  },
  {
   "cell_type": "code",
   "execution_count": null,
   "metadata": {},
   "outputs": [],
   "source": [
    "# Calculations here"
   ]
  },
  {
   "cell_type": "markdown",
   "metadata": {},
   "source": [
    "iv. Repeat the above questions in the subset of mother-baby pairs where the mother smoked. You may want to create a data frame containing only these mother-baby pairs, e.g. using the command:  babysmall <- baby[baby$Maternal.Smoker, ].  In this smaller sample of data, how have the following changed (and why?): the sample mean, the sample standard deviation, the estimated standard error, the 95% reference range, and the 95% confidence interval."
   ]
  },
  {
   "cell_type": "code",
   "execution_count": null,
   "metadata": {},
   "outputs": [],
   "source": [
    "# Calculations here"
   ]
  },
  {
   "cell_type": "markdown",
   "metadata": {},
   "source": [
    "## Levels of confidence intervals"
   ]
  },
  {
   "cell_type": "markdown",
   "metadata": {},
   "source": [
    "**Question 2.**  \n",
    "\n",
    "The following code calculates a 95% confidence interval for a mean. The last option tells R which level of confidence you wish."
   ]
  },
  {
   "cell_type": "code",
   "execution_count": 11,
   "metadata": {},
   "outputs": [
    {
     "data": {
      "text/plain": [
       "\n",
       "\tOne Sample t-test\n",
       "\n",
       "data:  baby$Birth.Weight\n",
       "t = 223.32, df = 1173, p-value < 2.2e-16\n",
       "alternative hypothesis: true mean is not equal to 0\n",
       "95 percent confidence interval:\n",
       " 118.413 120.512\n",
       "sample estimates:\n",
       "mean of x \n",
       " 119.4625 \n"
      ]
     },
     "metadata": {},
     "output_type": "display_data"
    }
   ],
   "source": [
    "t.test(baby$Birth.Weight, data=baby, conf.level = 0.95)"
   ]
  },
  {
   "cell_type": "markdown",
   "metadata": {},
   "source": [
    "i. Use the code to obtain a 95% confidence interval. Check that it agrees with your manual calculation above. [Note: Only the bottom half of the output is relevant to this session.]\n",
    "\n",
    "ii. Obtain a 99% confidence interval. Look at a range of levels (e.g. 80%, 99.99%) and see how the intervals change. \n",
    "\n",
    "[If you have problems making the code work, use the manual approach:  Sample mean $\\pm M \\times SE$ where $SE$ is the standard error and $M= 1.282, 1.96, 2.58, 3.90$ for 80%, 95%, 99%, 99.99% confidence intervals, respectively]"
   ]
  },
  {
   "cell_type": "code",
   "execution_count": null,
   "metadata": {},
   "outputs": [],
   "source": [
    "# Confidence intervals of different levels here:"
   ]
  },
  {
   "cell_type": "markdown",
   "metadata": {},
   "source": [
    "# Exploring different confidence intervals"
   ]
  },
  {
   "cell_type": "markdown",
   "metadata": {},
   "source": [
    "**Question 3.** \n",
    "\n",
    "i. Now we will compare the birth weight of babies born to mothers who smokerd and those who did not. How many mother-baby pairs are in each of those groups? Calculate the difference in sample means. Which group has the higher observed mean birthweight? \n",
    "\n",
    "Use the code below to obtain a 95% confidence interval for the difference in means. Interpret the confidence interval."
   ]
  },
  {
   "cell_type": "code",
   "execution_count": 19,
   "metadata": {},
   "outputs": [
    {
     "data": {
      "text/plain": [
       "\n",
       "\tWelch Two Sample t-test\n",
       "\n",
       "data:  baby$Birth.Weight by baby$Maternal.Smoker\n",
       "t = 8.6265, df = 941.81, p-value < 2.2e-16\n",
       "alternative hypothesis: true difference in means is not equal to 0\n",
       "95 percent confidence interval:\n",
       "  7.158132 11.374153\n",
       "sample estimates:\n",
       "mean in group False  mean in group True \n",
       "           123.0853            113.8192 \n"
      ]
     },
     "metadata": {},
     "output_type": "display_data"
    }
   ],
   "source": [
    "t.test(baby$Birth.Weight ~ baby$Maternal.Smoker, data=baby, conf.level = 0.95)"
   ]
  },
  {
   "cell_type": "markdown",
   "metadata": {},
   "source": [
    "ii. [Optional]  Using the formula in the notes, manually calculate a 95% confidence interval for the proportion of mothers who smoke. Then fill in the numbers A (number of \"successes\" and B (number of Bernoulli trials) below to run the code. This will provide three different confidence intervals for the proportion. How much do the different confidence intervals differ?  "
   ]
  },
  {
   "cell_type": "code",
   "execution_count": 18,
   "metadata": {},
   "outputs": [
    {
     "data": {
      "text/html": [
       "0.377350178326301"
      ],
      "text/latex": [
       "0.377350178326301"
      ],
      "text/markdown": [
       "0.377350178326301"
      ],
      "text/plain": [
       "[1] 0.3773502"
      ]
     },
     "metadata": {},
     "output_type": "display_data"
    },
    {
     "data": {
      "text/html": [
       "0.404591900038265"
      ],
      "text/latex": [
       "0.404591900038265"
      ],
      "text/markdown": [
       "0.404591900038265"
      ],
      "text/plain": [
       "[1] 0.4045919"
      ]
     },
     "metadata": {},
     "output_type": "display_data"
    },
    {
     "data": {
      "text/plain": [
       "\n",
       "\tExact binomial test\n",
       "\n",
       "data:  459 and 1174\n",
       "number of successes = 459, number of trials = 1174, p-value = 7.928e-14\n",
       "alternative hypothesis: true probability of success is not equal to 0.5\n",
       "95 percent confidence interval:\n",
       " 0.3629351 0.4195547\n",
       "sample estimates:\n",
       "probability of success \n",
       "              0.390971 \n"
      ]
     },
     "metadata": {},
     "output_type": "display_data"
    },
    {
     "data": {
      "text/plain": [
       "\n",
       "\t1-sample proportions test with continuity correction\n",
       "\n",
       "data:  459 out of 1174, null probability 0.5\n",
       "X-squared = 55.388, df = 1, p-value = 9.896e-14\n",
       "alternative hypothesis: true p is not equal to 0.5\n",
       "95 percent confidence interval:\n",
       " 0.3630379 0.4196262\n",
       "sample estimates:\n",
       "       p \n",
       "0.390971 \n"
      ]
     },
     "metadata": {},
     "output_type": "display_data"
    },
    {
     "data": {
      "text/plain": [
       "\n",
       "\t1-sample proportions test without continuity correction\n",
       "\n",
       "data:  459 out of 1174, null probability 0.5\n",
       "X-squared = 55.823, df = 1, p-value = 7.931e-14\n",
       "alternative hypothesis: true p is not equal to 0.5\n",
       "95 percent confidence interval:\n",
       " 0.3634570 0.4191963\n",
       "sample estimates:\n",
       "       p \n",
       "0.390971 \n"
      ]
     },
     "metadata": {},
     "output_type": "display_data"
    }
   ],
   "source": [
    "binom.test(A, B,\n",
    "           0.5,\n",
    "           alternative=\"two.sided\",\n",
    "           conf.level=0.95)\n",
    "\n",
    "prop.test(A, B, p = NULL,\n",
    "          alternative = \"two.sided\",\n",
    "          conf.level = 0.95, correct = TRUE)\n",
    "\n",
    "prop.test(A, B, p = NULL,\n",
    "          alternative = \"two.sided\",\n",
    "          conf.level = 0.95, correct = FALSE)"
   ]
  },
  {
   "cell_type": "markdown",
   "metadata": {},
   "source": [
    "iii. [Optional] Using the code below, draw 1000 bootstrap samples, calculate the mean birth weight in each sample and obtain the 95% percentile confidence interval. Compare the interval to the one you calculated in the first question. Are they similar? Why / why not? "
   ]
  },
  {
   "cell_type": "code",
   "execution_count": 16,
   "metadata": {},
   "outputs": [
    {
     "data": {
      "text/html": [
       "119.470188245315"
      ],
      "text/latex": [
       "119.470188245315"
      ],
      "text/markdown": [
       "119.470188245315"
      ],
      "text/plain": [
       "[1] 119.4702"
      ]
     },
     "metadata": {},
     "output_type": "display_data"
    },
    {
     "data": {
      "text/html": [
       "0.504181666513072"
      ],
      "text/latex": [
       "0.504181666513072"
      ],
      "text/markdown": [
       "0.504181666513072"
      ],
      "text/plain": [
       "[1] 0.5041817"
      ]
     },
     "metadata": {},
     "output_type": "display_data"
    },
    {
     "data": {
      "text/html": [
       "<dl class=dl-horizontal>\n",
       "\t<dt>2.5%</dt>\n",
       "\t\t<dd>118.460796422487</dd>\n",
       "\t<dt>97.5%</dt>\n",
       "\t\t<dd>120.501022146508</dd>\n",
       "</dl>\n"
      ],
      "text/latex": [
       "\\begin{description*}\n",
       "\\item[2.5\\textbackslash{}\\%] 118.460796422487\n",
       "\\item[97.5\\textbackslash{}\\%] 120.501022146508\n",
       "\\end{description*}\n"
      ],
      "text/markdown": [
       "2.5%\n",
       ":   118.46079642248797.5%\n",
       ":   120.501022146508\n",
       "\n"
      ],
      "text/plain": [
       "    2.5%    97.5% \n",
       "118.4608 120.5010 "
      ]
     },
     "metadata": {},
     "output_type": "display_data"
    },
    {
     "data": {
      "image/png": "[encoded data removed]",
      "text/plain": [
       "Plot with title \"Histogram of mean.group\""
      ]
     },
     "metadata": {},
     "output_type": "display_data"
    }
   ],
   "source": [
    "# Set the seed\n",
    "set.seed(1234)\n",
    "\n",
    "# Draw bootstrap samples\n",
    "bootstrap <- lapply(1:NUMBER_HERE, function(i) sample(baby$Birth.Weight, replace = T))\n",
    "\n",
    "# Calculate sample means in each bootstrap sample\n",
    "mean.group <- sapply(bootstrap, mean)\n",
    "\n",
    "# Some summary statistics\n",
    "mean(mean.group)\n",
    "sqrt(var(mean.group))\n",
    "                     \n",
    "# Draw a histogram\n",
    "hist(mean.group, freq=FALSE)\n",
    "\n",
    "# Print out the 2.5th and 97.5th percentiles\n",
    "quantile(mean.group, c(0.025, 0.975))"
   ]
  },
  {
   "cell_type": "code",
   "execution_count": null,
   "metadata": {},
   "outputs": [],
   "source": []
  }
 ],
 "metadata": {
  "kernelspec": {
   "display_name": "R",
   "language": "R",
   "name": "ir"
  },
  "language_info": {
   "codemirror_mode": "r",
   "file_extension": ".r",
   "mimetype": "text/x-r-source",
   "name": "R",
   "pygments_lexer": "r",
   "version": "3.6.1"
  }
 },
 "nbformat": 4,
 "nbformat_minor": 4
}
