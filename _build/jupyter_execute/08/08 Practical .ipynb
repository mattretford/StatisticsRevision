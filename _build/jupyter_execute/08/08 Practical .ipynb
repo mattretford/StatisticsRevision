{
 "cells": [
  {
   "cell_type": "markdown",
   "metadata": {},
   "source": [
    "# Practical: Hypothesis testing and CIs"
   ]
  },
  {
   "cell_type": "markdown",
   "metadata": {},
   "source": [
    "In this practical you will\n",
    "\n",
    "- Interpret p-values alone and in conjunction with estimates and 95% confidence intervals\n",
    "- Apply a two-sample t-test to compare two population means\n",
    "- Apply the chi-squared test to compare two population proportions"
   ]
  },
  {
   "cell_type": "markdown",
   "metadata": {},
   "source": [
    "## The two-sample t-test"
   ]
  },
  {
   "cell_type": "markdown",
   "metadata": {},
   "source": [
    "**Question 1.** \n",
    "\n",
    "i. Re-open the mother-baby dataset. Use the code below to perform a two-sample t-test. \n",
    "\n",
    "ii. What is the null hypothesis here?\n",
    "\n",
    "ii. What is the p-value? Interpret the p-value.\n",
    "\n",
    "iii. This output gives a 95% confidence interval and a p-value. Given the p-value, without looking a the 95% confidence interval, what can we say about it, given the connection between p-values and confidence intervals? \n",
    "\n",
    "iv. Add the option \"var.equal=TRUE\" to the command. What does this do? (You may want to look at the help file: ?t.test)."
   ]
  },
  {
   "cell_type": "code",
   "execution_count": 1,
   "metadata": {},
   "outputs": [
    {
     "ename": "ERROR",
     "evalue": "Error in eval(m$data, parent.frame()): object 'baby' not found\n",
     "output_type": "error",
     "traceback": [
      "Error in eval(m$data, parent.frame()): object 'baby' not found\nTraceback:\n",
      "1. t.test(baby$Birth.Weight ~ baby$Maternal.Smoker, data = baby, \n .     conf.level = 0.95)",
      "2. t.test.formula(baby$Birth.Weight ~ baby$Maternal.Smoker, data = baby, \n .     conf.level = 0.95)",
      "3. eval(m$data, parent.frame())",
      "4. eval(m$data, parent.frame())"
     ]
    }
   ],
   "source": [
    "t.test(baby$Birth.Weight ~ baby$Maternal.Smoker, data=baby, conf.level = 0.95)"
   ]
  },
  {
   "cell_type": "markdown",
   "metadata": {},
   "source": [
    "## Interpreting confidence intervals and p-values"
   ]
  },
  {
   "cell_type": "markdown",
   "metadata": {},
   "source": [
    "**Question 2.**  \n",
    "\n",
    "This question is loosely based on the following article: https://www.ncbi.nlm.nih.gov/pmc/articles/PMC5640476/. However, please note that for pedagogic purposes (i.e. teaching) we have made up the study results, so the numbers below do not contain useful information about sepsis scores!\n",
    "\n",
    "Sepsis is a costly and often fatal medical condition which can affect hospitalized patients. To prevent death, it is vital to identify sepsis cases early.  There are various scores intended to measure suspicion of sepsis infection. These can be dichotomised by choosing cut-offs to classify patients into suspected sepsis and not.  We will consider the systemic inflammatory response system (SIRS) criteria to be the reference (comparison) score, and explore whether other scores do better, in terms of the proportion of sepsis cases correctly identified (the sensitivity). \n",
    "\n",
    "We will consider the following three scores:\n",
    "\n",
    "- National and Modified Early Earning Score (NEWs), a very simple-to-apply early warning score\n",
    "- quick Sepsis-related Organ Failure Assessment (qSOFA) score, also very simple-to-apply\n",
    "- eCART score, derived from a random forest algorithm including vital signs, laboratory values, and patient demographics\n",
    "\n",
    "Two studies were undertaken to compare NEWS to the reference score SIRS (studies 1 and 2). Two studies were undertaken to compare qSOFA to the reference score SIRS (studies 3 and 4). One study was undertaken to compare eCART to SIRS (study 5).\n",
    "\n",
    "In order to make sufficient clinical difference to justify changing systems, the new system would need to increase the sensitivity by at least 5%.\n",
    "\n",
    "The (made-up) results are shown in the table below. Note that we have rounded the numbers a little for ease of reading.\n",
    "\n",
    "\n",
    "| Study  | System | Cost |  Sample size |  Increase in sensitivity (%) | SE | 95% CI | p-value |\n",
    "|---- | ---- | :-: | :-: | :-: | :-: | :-: | :-: |\n",
    "| 1 | NEWs | Cheap |  20 | 15 | 15.3  |  (-15, 45)  | 0.33 |   \n",
    "| 2 | NEWs | Cheap |  2,000 | 15 | 1.53  |  (12, 18)  | <0.001 |   \n",
    "| 3 | qSOFA | Cheap |  15 | 10 | 18.4  |  (-26, 46)  | 0.59 |   \n",
    "| 4 | qSOFA | Cheap |  15,000 | 0.3 | 0.57  |  (-0.8, 1.4)  | 0.59 |  \n",
    "| 5 |eCART | Expensive |  20,000 | 3 | 0.5  |  (2, 4)  | 0.02 |  \n"
   ]
  },
  {
   "cell_type": "markdown",
   "metadata": {},
   "source": [
    "i. Consider study 1. This compares the NEWs score to the default score, SIRS. \n",
    "\n",
    "- What null hypothesis is being tested? How would you interpret the p-value? \n",
    "- What does the point estimate tell us?\n",
    "- What does the 95% confidence interval tell us? \n",
    "\n",
    "Overall, what is the conclusion of study 1?"
   ]
  },
  {
   "cell_type": "markdown",
   "metadata": {},
   "source": [
    "ii. Consider study 2. This also compares the NEWS score to the default score, SIRS. \n",
    "\n",
    "- Compare the point estimates from studies 1 and 2. \n",
    "- What is the most important difference between studies 1 and 2? \n",
    "- Interpret the 95% confidence interval\n",
    "- Interpret the p-value\n",
    "\n",
    "Overall, what is the conclusion of study 2? Are the results of study 1 and 2 consistent with one-another?"
   ]
  },
  {
   "cell_type": "markdown",
   "metadata": {},
   "source": [
    "iii. Consider studies 3 and 4. These have exactly the same p-values. Are the conclusions of the two studies therefore the same?"
   ]
  },
  {
   "cell_type": "markdown",
   "metadata": {},
   "source": [
    "iv. Study 5 was a large study comparing the eCART score to the default score SIRS. This study resulted in a p-value of p=0.02 and a confidence interval which excludes 0. Should we recommend that large hospitals implement this system? "
   ]
  },
  {
   "cell_type": "markdown",
   "metadata": {},
   "source": [
    "# Comparing two proportions"
   ]
  },
  {
   "cell_type": "markdown",
   "metadata": {},
   "source": [
    "**Question 3.** \n",
    "\n",
    "i. Define low birthweight as less than 88 ounces. Create a new variable containing a binary outcome of low birthweight. \n",
    "\n",
    "ii. Obtain the sample estimates of the proportion of low birthweight babies born to mothers who smoke and those who do not. Which is higher? Is this expected?"
   ]
  },
  {
   "cell_type": "code",
   "execution_count": null,
   "metadata": {},
   "outputs": [],
   "source": [
    "# Code here\n"
   ]
  },
  {
   "cell_type": "markdown",
   "metadata": {},
   "source": [
    "iii. Use the prop.test function below to perform a chi-squared test. What is the null hypothesis being tested here? (You may want to use the help page to help you answer the question).\n"
   ]
  },
  {
   "cell_type": "code",
   "execution_count": null,
   "metadata": {},
   "outputs": [],
   "source": [
    "### Compare proportion of low birthweight between mothers who do and don't smoke\n",
    "\n",
    "prop.test(c(21, 36), c(715, 459), p = NULL,\n",
    "          alternative = \"two.sided\",\n",
    "          conf.level = 0.95, correct = TRUE)"
   ]
  },
  {
   "cell_type": "markdown",
   "metadata": {},
   "source": [
    "iv. What is the p-value. Interpret the p-value. "
   ]
  },
  {
   "cell_type": "markdown",
   "metadata": {},
   "source": [
    "# Interpreting tables of results\n"
   ]
  },
  {
   "cell_type": "markdown",
   "metadata": {},
   "source": [
    "**Question 4.** [Optional] \n",
    "\n",
    "i. The table below is a fairly standard set of results from an observational study. \n",
    "\n",
    "ii. Find the p-values in the central column for (a) Aminocaproic acid vs control, and (b) history of intravenous drug use. Interpret these p-values. What are the null hypotheses here? \n",
    "\n",
    "iii. Look at the estimates and confidence intervals. Do these add useful information?"
   ]
  },
  {
   "cell_type": "markdown",
   "metadata": {},
   "source": [
    "<img src=\"OR_table.png\" alt=\"Interpretation of p-values\" width=\"600\"/>\n"
   ]
  },
  {
   "cell_type": "code",
   "execution_count": null,
   "metadata": {},
   "outputs": [],
   "source": []
  }
 ],
 "metadata": {
  "kernelspec": {
   "display_name": "R",
   "language": "R",
   "name": "ir"
  },
  "language_info": {
   "codemirror_mode": "r",
   "file_extension": ".r",
   "mimetype": "text/x-r-source",
   "name": "R",
   "pygments_lexer": "r",
   "version": "4.2.2"
  }
 },
 "nbformat": 4,
 "nbformat_minor": 4
}