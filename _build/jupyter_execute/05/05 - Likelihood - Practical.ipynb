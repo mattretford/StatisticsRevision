{
 "cells": [
  {
   "cell_type": "markdown",
   "metadata": {},
   "source": [
    "# 5.1 Likelihood: Practical Questions\n",
    "\n",
    "### Question 1\n",
    "The number of customers in a supermarket during lunch hour, $X$, is a non-negative, discrete random variable. The **Poisson** distribution is often used to model such a variable, and is defined by a single rate parameter $\\lambda$. The store manager wishes to estimate the number of customers to expect during lunch hour. On one particular day, they count 26 customers between 12pm and 1pm. \n",
    "\n",
    "(a) Write down the probability density function of the Poisson distribution.\n",
    "\n",
    "(b) Write down the likelihood function based on your answer in part (a), given the observed data $x = 26$.\n",
    "\n",
    "(c) Following the example from the lecture and the prompts below, calculate the likelihood for a range of values for $\\lambda$. Draw a plot of the results. \n",
    "\n",
    "(d) Identify the value of $\\lambda$ for which the probability of observing 26 customers is highest, i.e. for which the likelihood is highest. Mark it on your plot.\n",
    "\n",
    "(e) Derive the maximum likelihood estimator for $\\lambda$ algebraically, following the steps in section 5.6 of the lecture notes. Confirm that your estimate from part (d) agrees with the algebraic solution. *(remember you'll need the more general likelihood in terms of 'x' rather than the example value of 26)*"
   ]
  },
  {
   "cell_type": "code",
   "execution_count": 1,
   "metadata": {},
   "outputs": [],
   "source": [
    "# Define range of possible values for lambda\n",
    "#lam <- seq(...)\n",
    "\n",
    "# Calculate the Poisson likelihood for each value of lambda\n",
    "#L_lam <- ...\n",
    "\n",
    "# Plot the likelihood\n",
    "#plot(x = ..., y = ...)\n",
    "\n",
    "# Find the MLE\n",
    "#mle <- lam[which.max(...)]\n",
    "\n",
    "# Indicate MLE on plot\n",
    "#abline(v = ...)"
   ]
  },
  {
   "cell_type": "markdown",
   "metadata": {},
   "source": [
    "### Question 2\n",
    "\n",
    "Recall the example from the lecture about waiting time at a GP, which we modelled using an exponential distribution. The time taken for an event to occur can also be modelled using a **Gamma** distribution. \n",
    "\n",
    "This distribution has two parameters in general: a shape parameter $\\alpha$ and a rate parameter $\\beta$. We will consider the case where $\\alpha$ is *known* and equal to 2. We want to estimate the unknown parameter, $\\beta$. \n",
    "\n",
    "The PDF for a Gamma distribution with $\\alpha = 2$ is\n",
    "\n",
    "$$ P(Y = y) = \\frac{1}{\\Gamma(2)}\\beta^2 y e^{-\\beta y} $$\n",
    "\n",
    "*You might notice that the PDF is similar to that of the exponential distribution. In fact, the exponential is a special case of the Gamma, when $\\alpha = 1$*.\n",
    "\n",
    "(a) Plot the PDF for a Gamma distribution with $\\alpha = 2$ and $\\beta = 0.1$.\n",
    "\n",
    "(b) Write down the likelihood for $\\beta$, given some observed data $Y = y$ and assuming $\\alpha = 2$ is known.\n",
    "\n",
    "(c) Given $\\alpha = 2$ and observed data $y = 10.5$, plot the likelihood and log-likelihood for some possible values of $\\beta$. How does the likelihood differ from the PDF? Estimate the MLE from your plots. \n",
    "\n",
    "(d) Derive the general form of the MLE for $\\beta$ algebraically."
   ]
  },
  {
   "cell_type": "code",
   "execution_count": 2,
   "metadata": {},
   "outputs": [],
   "source": [
    "# PDF P(Y = y) for y = 1:30 (have a look at help(dgamma))\n",
    "#y <- ...\n",
    "#P_y <- dgamma(...)\n",
    "#plot(...)\n",
    "\n",
    "# Range for beta\n",
    "#beta <- seq(0,1,0.01)\n",
    "\n",
    "# Gamma likelihood for each value of lambda\n",
    "#L_beta <- ...\n",
    "\n",
    "# Plot the likelihood\n",
    "#plot(...)\n",
    "\n",
    "# Plot the log-likelihood\n",
    "#plot(...)\n",
    "\n",
    "# Find the MLE\n",
    "#mle <- ...\n",
    "\n",
    "# Indicate MLE on plot\n",
    "#abline(v = mle, col = \"red\")"
   ]
  },
  {
   "cell_type": "markdown",
   "metadata": {},
   "source": [
    "### Question 3 (optional)\n",
    "\n",
    "Recall the example from the lecture about the proportion of patients attending a diabetes clinic who respond to lifestyle changes. How would the likelihood have changed if 50 patients had attended the clinic that day and been included in the clinician's investigation, rather than 20? \n",
    "\n",
    "(a) Plot the likelihood function for the proportion $\\pi$ of responsive patients, if the clinician had included 50 patients in her study and observed that 32 of them were responsive. \n",
    "\n",
    "(b) Calculate the MLE for $\\pi$ based on these alternative data. \n",
    "\n",
    "(c) The table below shows the number of responders out of five different samples of patients, of different sizes. By changing the values in your code for part *a*, plot the likelihood for each sample. How does the likelihood change as the size increases?\n",
    "\n",
    "| Patients (n) | Responders (x) |\n",
    "| -------- | ---------- |\n",
    "| 10       | 6          |\n",
    "| 20       | 11         |\n",
    "| 50       | 32         |\n",
    "| 100      | 58         |\n",
    "| 500      | 328        |"
   ]
  }
 ],
 "metadata": {
  "kernelspec": {
   "display_name": "R",
   "language": "R",
   "name": "ir"
  },
  "language_info": {
   "codemirror_mode": "r",
   "file_extension": ".r",
   "mimetype": "text/x-r-source",
   "name": "R",
   "pygments_lexer": "r",
   "version": "4.2.2"
  }
 },
 "nbformat": 4,
 "nbformat_minor": 4
}