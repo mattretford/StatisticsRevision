{
 "cells": [
  {
   "cell_type": "markdown",
   "metadata": {},
   "source": [
    "# 8 Practical: Hypothesis testing and CIs - Solutions"
   ]
  },
  {
   "cell_type": "markdown",
   "metadata": {},
   "source": [
    "In this practical you will\n",
    "\n",
    "- Interpret p-values alone and in conjunction with estimates and 95% confidence intervals\n",
    "- Apply a two-sample t-test to compare two population means\n",
    "- Apply the chi-squared test to compare two population proportions"
   ]
  },
  {
   "cell_type": "markdown",
   "metadata": {},
   "source": [
    "## The two-sample t-test"
   ]
  },
  {
   "cell_type": "markdown",
   "metadata": {},
   "source": [
    "**Question 1.** \n",
    "\n",
    "i. This code reads in the data and performs a two-sample t-test."
   ]
  },
  {
   "cell_type": "code",
   "execution_count": 6,
   "metadata": {},
   "outputs": [
    {
     "data": {
      "text/plain": [
       "\n",
       "\tWelch Two Sample t-test\n",
       "\n",
       "data:  baby$Birth.Weight by baby$Maternal.Smoker\n",
       "t = 8.6265, df = 941.81, p-value < 2.2e-16\n",
       "alternative hypothesis: true difference in means is not equal to 0\n",
       "95 percent confidence interval:\n",
       "  7.158132 11.374153\n",
       "sample estimates:\n",
       "mean in group False  mean in group True \n",
       "           123.0853            113.8192 \n"
      ]
     },
     "metadata": {},
     "output_type": "display_data"
    }
   ],
   "source": [
    "# Open data\n",
    "baby <- read.csv(\"baby.csv\", sep=\",\")\n",
    "\n",
    "\n",
    "# T-test\n",
    "t.test(baby$Birth.Weight ~ baby$Maternal.Smoker, data=baby, conf.level = 0.95)"
   ]
  },
  {
   "cell_type": "markdown",
   "metadata": {},
   "source": [
    "ii. This is testing the null hypothesis that the true difference in means is equal to zero. (Oddly, the output states only the alternative rather than the null). \n",
    "\n",
    "iii. The p-value is p<0.001. We know that therefore the 95% confidence interval will exclude the \"null value\". In this case the null value is zero. It turns out the 95% CI is from 7.2 to 11.4, which does indeed exclude zero.\n",
    "\n",
    "iv. The code below  adds the option \"var.equal=TRUE\" to the command. What does this do? (You may want to look at the help file: ?t.test).\n"
   ]
  },
  {
   "cell_type": "code",
   "execution_count": 7,
   "metadata": {},
   "outputs": [
    {
     "data": {
      "text/plain": [
       "\n",
       "\tTwo Sample t-test\n",
       "\n",
       "data:  baby$Birth.Weight by baby$Maternal.Smoker\n",
       "t = 8.7188, df = 1172, p-value < 2.2e-16\n",
       "alternative hypothesis: true difference in means is not equal to 0\n",
       "95 percent confidence interval:\n",
       "  7.180973 11.351312\n",
       "sample estimates:\n",
       "mean in group False  mean in group True \n",
       "           123.0853            113.8192 \n"
      ]
     },
     "metadata": {},
     "output_type": "display_data"
    }
   ],
   "source": [
    "# T-test\n",
    "t.test(baby$Birth.Weight ~ baby$Maternal.Smoker, data=baby, conf.level = 0.95, var.equal=TRUE)"
   ]
  },
  {
   "cell_type": "markdown",
   "metadata": {},
   "source": [
    "The mean estimates in the two groups are the same. The main thing that has changed is that the confidence interval has become more narrow. This is because we gain more precision, more certainty, in exchange for our additional assumption that the standard deviation is the same in the two groups. In fact, the p-value is also lower, but it is such a small value that we can't tell from the output."
   ]
  },
  {
   "cell_type": "markdown",
   "metadata": {},
   "source": [
    "## Interpreting confidence intervals and p-values"
   ]
  },
  {
   "cell_type": "markdown",
   "metadata": {},
   "source": [
    "**Question 2.**  \n",
    "\n",
    "This question is loosely based on the following article: https://www.ncbi.nlm.nih.gov/pmc/articles/PMC5640476/. However, please note that for pedagogic purposes (i.e. teaching) we have made up the study results, so the numbers below do not contain useful information about sepsis scores!\n",
    "\n",
    "Sepsis is a costly and often fatal medical condition which can affect hospitalized patients. To prevent death, it is vital to identify sepsis cases early.  There are various scores intended to measure suspicion of sepsis infection. These can be dichotomised by choosing cut-offs to classify patients into suspected sepsis and not.  We will consider the systemic inflammatory response system (SIRS) criteria to be the reference (comparison) score, and explore whether other scores do better, in terms of the proportion of sepsis cases correctly identified (the sensitivity). \n",
    "\n",
    "We will consider the following three scores:\n",
    "\n",
    "- National and Modified Early Earning Score (NEWs), a very simple-to-apply early warning score\n",
    "- quick Sepsis-related Organ Failure Assessment (qSOFA) score, also very simple-to-apply\n",
    "- eCART score, derived from a random forest algorithm including vital signs, laboratory values, and patient demographics\n",
    "\n",
    "Two studies were undertaken to compare NEWS to the reference score SIRS (studies 1 and 2). Two studies were undertaken to compare qSOFA to the reference score SIRS (studies 3 and 4). One study was undertaken to compare eCART to SIRS (study 5).\n",
    "\n",
    "In order to make sufficient clinical difference to justify changing systems, the new system would need to increase the sensitivity by at least 5%.\n",
    "\n",
    "The (made-up) results are shown in the table below. Note that we have rounded the numbers a little for ease of reading.\n",
    "\n",
    "\n",
    "| Study  | System | Cost |  Sample size |  Increase in sensitivity (%) | SE | 95% CI | p-value |\n",
    "|---- | ---- | :-: | :-: | :-: | :-: | :-: | :-: |\n",
    "| 1 | NEWs | Cheap |  20 | 15 | 15.3  |  (-15, 45)  | 0.33 |   \n",
    "| 2 | NEWs | Cheap |  2,000 | 15 | 1.53  |  (12, 18)  | <0.001 |   \n",
    "| 3 | qSOFA | Cheap |  15 | 10 | 18.4  |  (-26, 46)  | 0.59 |   \n",
    "| 4 | qSOFA | Cheap |  15,000 | 0.3 | 0.57  |  (-0.8, 1.4)  | 0.59 |  \n",
    "| 5 |eCART | Expensive |  20,000 | 3 | 0.5  |  (2, 4)  | 0.02 |  \n"
   ]
  },
  {
   "cell_type": "markdown",
   "metadata": {},
   "source": [
    "i. Consider study 1. This compares the NEWs score to the default score, SIRS. \n",
    "\n",
    "- The null hypothesis is that the increase in sensitivity is zero (i.e. it's a test of two proportions). The p-value is p=0.33, represting little evidence against the null hypothesis.  \n",
    "- The point estimate tells us that our current best guess is that NEWs increases the sensitivity by 15% (which, if true, represents a clinically important increase). \n",
    "- The 95% confidence interval tells us that values between -15% and 45% are consistent with our observed data, i.e. the true change in sensitivity could be that the NEWs score decreases sensitivity by 15% or that it increases sensitivity by 45%. Basically, our data haven't ruled much out and we still know very little about the NEWs test. The p-value of 0.33 reflects a huge lack of knowledge."
   ]
  },
  {
   "cell_type": "markdown",
   "metadata": {},
   "source": [
    "ii. Consider study 2. This also compares the NEWS score to the default score, SIRS. \n",
    "\n",
    "- Studies 1 and 2 have the same point estimate (NEWs increases the sensitivity by 15% compared to SIRS). \n",
    "- The size - study 2 has 2000 people compared with the 20 people in study 1. \n",
    "- The 95% confidence interval in study 2 tells us that the observed data are consistent with the true increase in sensitivity (comparing NEWs and SIRS) could be as low as 12% or as high as 18%. All values within this interval represent clinically important increases in sensitivity. \n",
    "- The p-value is p<0.001, representing strong evidence against the null hypothesis.\n",
    "\n",
    "Overall, study 2 shows that NEWs has a clinically important increase in sensitivity compared to SIRs. The results of studies 1 and 2 are consistent with one another. Study 1 did not show the absence of an effect, it just didn't have sufficient information to find an effect. \n",
    "\n",
    "This illustrates the often quoted saying: absence of evidence is not evidence of absence. Just because study 1 couldn't find evidence that NEWs was better than SIRS did not mean that it wasn't. "
   ]
  },
  {
   "cell_type": "markdown",
   "metadata": {},
   "source": [
    "iii. Studies 3 and 4 both have a p-value of p=0.59, representing no evidence against the null hypothesis. \n",
    "\n",
    "For study 3, the estimated increase in sensitivity is 10% (a clinically important increase), with 95% CI from -26% to 46%. So the CI includes many values representing clinically important changes in both directions. Here, we simply have little evidence of anything. This is due to the small sample size, n=15. \n",
    "\n",
    "For study 4, the estimaetd increase in sensitivity is 0.3% (a clinically unimportant change), with 95% CI from -0.8% to 1.4%. The CI excludes all clinically important changes. Thus this study has essentially ruled out the possibility that qSOFA improves sensitivity compared to SIRs. \n",
    "\n",
    "The conclusions of these two studies are completely different. Study 1's conclusion is that we need more information. Study 2's conclusion is that qSOFA isn't a worthwhile algorithm. So the same p-value can represent very different results. This is why we always need to consider estimates and confidence intervals, where possible. \n"
   ]
  },
  {
   "cell_type": "markdown",
   "metadata": {},
   "source": [
    "iv. Study 5 estimates that eCART increase sensitivity by 3% (95% CI: 2%, 4%). The confidence interval excludes all clinically important values. The eCART algorithm is therefore expensive and likely clinically  not useful.  So, despite a \"significant\" p-value, we would be unwise to recommend this system."
   ]
  },
  {
   "cell_type": "markdown",
   "metadata": {},
   "source": [
    "# Comparing two proportions"
   ]
  },
  {
   "cell_type": "markdown",
   "metadata": {},
   "source": [
    "**Question 3.** \n",
    "\n",
    "The code below creates a new variable containing a binary outcome of low birthweight. "
   ]
  },
  {
   "cell_type": "code",
   "execution_count": 4,
   "metadata": {},
   "outputs": [
    {
     "data": {
      "text/plain": [
       "\n",
       "False  True \n",
       "  715   459 "
      ]
     },
     "metadata": {},
     "output_type": "display_data"
    },
    {
     "data": {
      "text/plain": [
       "       \n",
       "lbw     False True\n",
       "  FALSE   694  423\n",
       "  TRUE     21   36"
      ]
     },
     "metadata": {},
     "output_type": "display_data"
    }
   ],
   "source": [
    "# Low birthweight\n",
    "lbw <- baby$Birth.Weight<88\n",
    "\n",
    "# Numbers in each group\n",
    "table(baby$Maternal.Smoker)\n",
    "\n",
    "# Numbers of low birthweight babies in each group\n",
    "table(lbw, baby$Maternal.Smoker)"
   ]
  },
  {
   "cell_type": "markdown",
   "metadata": {},
   "source": [
    "21 of the 715 babies born to non-smoking mothers were low birthweight (0.029 or 2.9%). \n",
    "\n",
    "36 of the 459 babies born to smoking mothers were low birthweight (0.078 or 7.8%). \n",
    "\n",
    "In our sample, there is a higher proportion of low birthweight among babies whose mother smoked. This is clinically plausible and in the expected direction.\n",
    "\n",
    "The sample difference in proportion is 0.078 - 0.029 = 0.049 (4.9% difference)."
   ]
  },
  {
   "cell_type": "markdown",
   "metadata": {},
   "source": [
    "The code below perform a chi-squared test."
   ]
  },
  {
   "cell_type": "code",
   "execution_count": 5,
   "metadata": {},
   "outputs": [
    {
     "data": {
      "text/plain": [
       "\n",
       "\t2-sample test for equality of proportions with continuity correction\n",
       "\n",
       "data:  c(21, 36) out of c(715, 459)\n",
       "X-squared = 13.523, df = 1, p-value = 0.0002357\n",
       "alternative hypothesis: two.sided\n",
       "95 percent confidence interval:\n",
       " -0.07838277 -0.01973871\n",
       "sample estimates:\n",
       "    prop 1     prop 2 \n",
       "0.02937063 0.07843137 \n"
      ]
     },
     "metadata": {},
     "output_type": "display_data"
    }
   ],
   "source": [
    "### Compare proportion of low birthweight between mothers who do and don't smoke\n",
    "\n",
    "prop.test(c(21, 36), c(715, 459), p = NULL,\n",
    "          alternative = \"two.sided\",\n",
    "          conf.level = 0.95, correct = TRUE)"
   ]
  },
  {
   "cell_type": "markdown",
   "metadata": {},
   "source": [
    "The null hypothesis is that the proportion of low birthweight babies is equal in the two groups (smokers and non-smokers). The p-value is 0.0002, providing strong evidence against the null hypothesis. \n",
    "\n",
    "The estimated difference in proportion (95% CI) is: 4.9% (1.97%, 7.83%) (proportion among smokers minus proportion among non-smokers). We estimate that the proportion of low birthweight babies among mothers who smoke is 5% higher than among those who do not. Our data are consistent with this difference being as low as 2% or as high as 8%.  \n",
    "\n",
    "Note that the p-value is <0.05, so we expect our 95% CI to exclude the \"null value\". Here, the null value is zero (no difference in proportions). The confidence interval does indeed exclude the null value."
   ]
  },
  {
   "cell_type": "markdown",
   "metadata": {},
   "source": [
    "# Interpreting tables of results\n"
   ]
  },
  {
   "cell_type": "markdown",
   "metadata": {},
   "source": [
    "**Question 4.** [Optional] \n",
    "\n",
    "The authors have estimated the odds of a renal outcome (a composite outcome, which means that the outcome is that any one of a number of renal problems occurred). The odds ratio compares the odds of the outcome between the groups listed under \"risk factor\". \n",
    "\n",
    "For Aminocaproic acid vs control, for example, this odds ratio compares the odds of the renal outcome occurring in the Aminocaproic cid group compared to the control group. The odds ratio is estimated to be 1.03 with a 95% CI from 0.61 to 1.76. So The \"best guess\" is an odds ratio very close to 1. Because this is a ratio, the null value indicating no difference is equal to 1. So there is little suggestion of a relationship between this risk factor and the outcome, although the confidence interval is quite wide and includes potentially important relationships in either direction. The p-value of 0.91 gives no evidence against the null hypothesis of no association (i.e. the null hypothesis is that the odds ratio is equal to 1). \n",
    "\n",
    "For history of intravenous drug use, the odds ratio is estimated as 3.29 (95% CI 1.08 to 10.04), suggesting that the odds of the renal outcome occurring are three times higher in intravenous drug users than in other participants. The confidence interval is very wide, going all the way down to 1.08. However, it excludes zero, so there is some evidence that there is an association. \n",
    "\n",
    "From the discussion above, it should be clear that looking at the magnitude of the estimates and confidence intervals adds a lot to the interpretation of the p-value."
   ]
  },
  {
   "cell_type": "code",
   "execution_count": null,
   "metadata": {},
   "outputs": [],
   "source": []
  }
 ],
 "metadata": {
  "kernelspec": {
   "display_name": "R",
   "language": "R",
   "name": "ir"
  },
  "language_info": {
   "codemirror_mode": "r",
   "file_extension": ".r",
   "mimetype": "text/x-r-source",
   "name": "R",
   "pygments_lexer": "r",
   "version": "3.6.1"
  }
 },
 "nbformat": 4,
 "nbformat_minor": 4
}
